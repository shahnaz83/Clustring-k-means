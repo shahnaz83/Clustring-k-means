{
 "cells": [
  {
   "cell_type": "code",
   "execution_count": 1,
   "id": "d7f50cca",
   "metadata": {
    "execution": {
     "iopub.execute_input": "2022-04-23T07:34:59.216781Z",
     "iopub.status.busy": "2022-04-23T07:34:59.216327Z",
     "iopub.status.idle": "2022-04-23T07:35:00.373938Z",
     "shell.execute_reply": "2022-04-23T07:35:00.373020Z"
    },
    "papermill": {
     "duration": 1.209413,
     "end_time": "2022-04-23T07:35:00.377151",
     "exception": false,
     "start_time": "2022-04-23T07:34:59.167738",
     "status": "completed"
    },
    "tags": []
   },
   "outputs": [],
   "source": [
    "import numpy as np\n",
    "import matplotlib.pyplot as plt\n",
    "import pandas as pd\n",
    "import seaborn as sns"
   ]
  },
  {
   "cell_type": "markdown",
   "id": "dad17bd2",
   "metadata": {
    "papermill": {
     "duration": 0.044985,
     "end_time": "2022-04-23T07:35:00.483768",
     "exception": false,
     "start_time": "2022-04-23T07:35:00.438783",
     "status": "completed"
    },
    "tags": []
   },
   "source": [
    "#### Understanding Business Question:\n",
    "#### RFM Clustering for an Online Retail company"
   ]
  },
  {
   "cell_type": "code",
   "execution_count": 2,
   "id": "fe2e4b9e",
   "metadata": {
    "execution": {
     "iopub.execute_input": "2022-04-23T07:35:00.576670Z",
     "iopub.status.busy": "2022-04-23T07:35:00.576174Z",
     "iopub.status.idle": "2022-04-23T07:35:01.718960Z",
     "shell.execute_reply": "2022-04-23T07:35:01.718294Z"
    },
    "papermill": {
     "duration": 1.191565,
     "end_time": "2022-04-23T07:35:01.721242",
     "exception": false,
     "start_time": "2022-04-23T07:35:00.529677",
     "status": "completed"
    },
    "tags": []
   },
   "outputs": [],
   "source": [
    "data = pd.read_csv('../input/online-retail-customer-clustering/OnlineRetail.csv', delimiter=',', encoding = \"ISO-8859-1\")"
   ]
  },
  {
   "cell_type": "markdown",
   "id": "0fc45200",
   "metadata": {
    "papermill": {
     "duration": 0.04744,
     "end_time": "2022-04-23T07:35:01.815457",
     "exception": false,
     "start_time": "2022-04-23T07:35:01.768017",
     "status": "completed"
    },
    "tags": []
   },
   "source": [
    "## Data Inspection"
   ]
  },
  {
   "cell_type": "code",
   "execution_count": 3,
   "id": "baa3444f",
   "metadata": {
    "execution": {
     "iopub.execute_input": "2022-04-23T07:35:01.909535Z",
     "iopub.status.busy": "2022-04-23T07:35:01.909079Z",
     "iopub.status.idle": "2022-04-23T07:35:01.915555Z",
     "shell.execute_reply": "2022-04-23T07:35:01.914922Z"
    },
    "papermill": {
     "duration": 0.056007,
     "end_time": "2022-04-23T07:35:01.917354",
     "exception": false,
     "start_time": "2022-04-23T07:35:01.861347",
     "status": "completed"
    },
    "tags": []
   },
   "outputs": [
    {
     "data": {
      "text/plain": [
       "(541909, 8)"
      ]
     },
     "execution_count": 3,
     "metadata": {},
     "output_type": "execute_result"
    }
   ],
   "source": [
    "data.shape"
   ]
  },
  {
   "cell_type": "code",
   "execution_count": 4,
   "id": "e389e8f3",
   "metadata": {
    "execution": {
     "iopub.execute_input": "2022-04-23T07:35:02.012155Z",
     "iopub.status.busy": "2022-04-23T07:35:02.011723Z",
     "iopub.status.idle": "2022-04-23T07:35:02.031951Z",
     "shell.execute_reply": "2022-04-23T07:35:02.031344Z"
    },
    "papermill": {
     "duration": 0.070744,
     "end_time": "2022-04-23T07:35:02.034036",
     "exception": false,
     "start_time": "2022-04-23T07:35:01.963292",
     "status": "completed"
    },
    "tags": []
   },
   "outputs": [
    {
     "data": {
      "text/html": [
       "<div>\n",
       "<style scoped>\n",
       "    .dataframe tbody tr th:only-of-type {\n",
       "        vertical-align: middle;\n",
       "    }\n",
       "\n",
       "    .dataframe tbody tr th {\n",
       "        vertical-align: top;\n",
       "    }\n",
       "\n",
       "    .dataframe thead th {\n",
       "        text-align: right;\n",
       "    }\n",
       "</style>\n",
       "<table border=\"1\" class=\"dataframe\">\n",
       "  <thead>\n",
       "    <tr style=\"text-align: right;\">\n",
       "      <th></th>\n",
       "      <th>InvoiceNo</th>\n",
       "      <th>StockCode</th>\n",
       "      <th>Description</th>\n",
       "      <th>Quantity</th>\n",
       "      <th>InvoiceDate</th>\n",
       "      <th>UnitPrice</th>\n",
       "      <th>CustomerID</th>\n",
       "      <th>Country</th>\n",
       "    </tr>\n",
       "  </thead>\n",
       "  <tbody>\n",
       "    <tr>\n",
       "      <th>0</th>\n",
       "      <td>536365</td>\n",
       "      <td>85123A</td>\n",
       "      <td>WHITE HANGING HEART T-LIGHT HOLDER</td>\n",
       "      <td>6</td>\n",
       "      <td>01-12-2010 08:26</td>\n",
       "      <td>2.55</td>\n",
       "      <td>17850.0</td>\n",
       "      <td>United Kingdom</td>\n",
       "    </tr>\n",
       "    <tr>\n",
       "      <th>1</th>\n",
       "      <td>536365</td>\n",
       "      <td>71053</td>\n",
       "      <td>WHITE METAL LANTERN</td>\n",
       "      <td>6</td>\n",
       "      <td>01-12-2010 08:26</td>\n",
       "      <td>3.39</td>\n",
       "      <td>17850.0</td>\n",
       "      <td>United Kingdom</td>\n",
       "    </tr>\n",
       "    <tr>\n",
       "      <th>2</th>\n",
       "      <td>536365</td>\n",
       "      <td>84406B</td>\n",
       "      <td>CREAM CUPID HEARTS COAT HANGER</td>\n",
       "      <td>8</td>\n",
       "      <td>01-12-2010 08:26</td>\n",
       "      <td>2.75</td>\n",
       "      <td>17850.0</td>\n",
       "      <td>United Kingdom</td>\n",
       "    </tr>\n",
       "    <tr>\n",
       "      <th>3</th>\n",
       "      <td>536365</td>\n",
       "      <td>84029G</td>\n",
       "      <td>KNITTED UNION FLAG HOT WATER BOTTLE</td>\n",
       "      <td>6</td>\n",
       "      <td>01-12-2010 08:26</td>\n",
       "      <td>3.39</td>\n",
       "      <td>17850.0</td>\n",
       "      <td>United Kingdom</td>\n",
       "    </tr>\n",
       "    <tr>\n",
       "      <th>4</th>\n",
       "      <td>536365</td>\n",
       "      <td>84029E</td>\n",
       "      <td>RED WOOLLY HOTTIE WHITE HEART.</td>\n",
       "      <td>6</td>\n",
       "      <td>01-12-2010 08:26</td>\n",
       "      <td>3.39</td>\n",
       "      <td>17850.0</td>\n",
       "      <td>United Kingdom</td>\n",
       "    </tr>\n",
       "  </tbody>\n",
       "</table>\n",
       "</div>"
      ],
      "text/plain": [
       "  InvoiceNo StockCode                          Description  Quantity  \\\n",
       "0    536365    85123A   WHITE HANGING HEART T-LIGHT HOLDER         6   \n",
       "1    536365     71053                  WHITE METAL LANTERN         6   \n",
       "2    536365    84406B       CREAM CUPID HEARTS COAT HANGER         8   \n",
       "3    536365    84029G  KNITTED UNION FLAG HOT WATER BOTTLE         6   \n",
       "4    536365    84029E       RED WOOLLY HOTTIE WHITE HEART.         6   \n",
       "\n",
       "        InvoiceDate  UnitPrice  CustomerID         Country  \n",
       "0  01-12-2010 08:26       2.55     17850.0  United Kingdom  \n",
       "1  01-12-2010 08:26       3.39     17850.0  United Kingdom  \n",
       "2  01-12-2010 08:26       2.75     17850.0  United Kingdom  \n",
       "3  01-12-2010 08:26       3.39     17850.0  United Kingdom  \n",
       "4  01-12-2010 08:26       3.39     17850.0  United Kingdom  "
      ]
     },
     "execution_count": 4,
     "metadata": {},
     "output_type": "execute_result"
    }
   ],
   "source": [
    "data.head()"
   ]
  },
  {
   "cell_type": "code",
   "execution_count": 5,
   "id": "6eb3543c",
   "metadata": {
    "execution": {
     "iopub.execute_input": "2022-04-23T07:35:02.128132Z",
     "iopub.status.busy": "2022-04-23T07:35:02.127611Z",
     "iopub.status.idle": "2022-04-23T07:35:02.141904Z",
     "shell.execute_reply": "2022-04-23T07:35:02.140986Z"
    },
    "papermill": {
     "duration": 0.063669,
     "end_time": "2022-04-23T07:35:02.144063",
     "exception": false,
     "start_time": "2022-04-23T07:35:02.080394",
     "status": "completed"
    },
    "tags": []
   },
   "outputs": [
    {
     "data": {
      "text/html": [
       "<div>\n",
       "<style scoped>\n",
       "    .dataframe tbody tr th:only-of-type {\n",
       "        vertical-align: middle;\n",
       "    }\n",
       "\n",
       "    .dataframe tbody tr th {\n",
       "        vertical-align: top;\n",
       "    }\n",
       "\n",
       "    .dataframe thead th {\n",
       "        text-align: right;\n",
       "    }\n",
       "</style>\n",
       "<table border=\"1\" class=\"dataframe\">\n",
       "  <thead>\n",
       "    <tr style=\"text-align: right;\">\n",
       "      <th></th>\n",
       "      <th>InvoiceNo</th>\n",
       "      <th>StockCode</th>\n",
       "      <th>Description</th>\n",
       "      <th>Quantity</th>\n",
       "      <th>InvoiceDate</th>\n",
       "      <th>UnitPrice</th>\n",
       "      <th>CustomerID</th>\n",
       "      <th>Country</th>\n",
       "    </tr>\n",
       "  </thead>\n",
       "  <tbody>\n",
       "    <tr>\n",
       "      <th>541904</th>\n",
       "      <td>581587</td>\n",
       "      <td>22613</td>\n",
       "      <td>PACK OF 20 SPACEBOY NAPKINS</td>\n",
       "      <td>12</td>\n",
       "      <td>09-12-2011 12:50</td>\n",
       "      <td>0.85</td>\n",
       "      <td>12680.0</td>\n",
       "      <td>France</td>\n",
       "    </tr>\n",
       "    <tr>\n",
       "      <th>541905</th>\n",
       "      <td>581587</td>\n",
       "      <td>22899</td>\n",
       "      <td>CHILDREN'S APRON DOLLY GIRL</td>\n",
       "      <td>6</td>\n",
       "      <td>09-12-2011 12:50</td>\n",
       "      <td>2.10</td>\n",
       "      <td>12680.0</td>\n",
       "      <td>France</td>\n",
       "    </tr>\n",
       "    <tr>\n",
       "      <th>541906</th>\n",
       "      <td>581587</td>\n",
       "      <td>23254</td>\n",
       "      <td>CHILDRENS CUTLERY DOLLY GIRL</td>\n",
       "      <td>4</td>\n",
       "      <td>09-12-2011 12:50</td>\n",
       "      <td>4.15</td>\n",
       "      <td>12680.0</td>\n",
       "      <td>France</td>\n",
       "    </tr>\n",
       "    <tr>\n",
       "      <th>541907</th>\n",
       "      <td>581587</td>\n",
       "      <td>23255</td>\n",
       "      <td>CHILDRENS CUTLERY CIRCUS PARADE</td>\n",
       "      <td>4</td>\n",
       "      <td>09-12-2011 12:50</td>\n",
       "      <td>4.15</td>\n",
       "      <td>12680.0</td>\n",
       "      <td>France</td>\n",
       "    </tr>\n",
       "    <tr>\n",
       "      <th>541908</th>\n",
       "      <td>581587</td>\n",
       "      <td>22138</td>\n",
       "      <td>BAKING SET 9 PIECE RETROSPOT</td>\n",
       "      <td>3</td>\n",
       "      <td>09-12-2011 12:50</td>\n",
       "      <td>4.95</td>\n",
       "      <td>12680.0</td>\n",
       "      <td>France</td>\n",
       "    </tr>\n",
       "  </tbody>\n",
       "</table>\n",
       "</div>"
      ],
      "text/plain": [
       "       InvoiceNo StockCode                      Description  Quantity  \\\n",
       "541904    581587     22613      PACK OF 20 SPACEBOY NAPKINS        12   \n",
       "541905    581587     22899     CHILDREN'S APRON DOLLY GIRL          6   \n",
       "541906    581587     23254    CHILDRENS CUTLERY DOLLY GIRL          4   \n",
       "541907    581587     23255  CHILDRENS CUTLERY CIRCUS PARADE         4   \n",
       "541908    581587     22138    BAKING SET 9 PIECE RETROSPOT          3   \n",
       "\n",
       "             InvoiceDate  UnitPrice  CustomerID Country  \n",
       "541904  09-12-2011 12:50       0.85     12680.0  France  \n",
       "541905  09-12-2011 12:50       2.10     12680.0  France  \n",
       "541906  09-12-2011 12:50       4.15     12680.0  France  \n",
       "541907  09-12-2011 12:50       4.15     12680.0  France  \n",
       "541908  09-12-2011 12:50       4.95     12680.0  France  "
      ]
     },
     "execution_count": 5,
     "metadata": {},
     "output_type": "execute_result"
    }
   ],
   "source": [
    "data.tail()"
   ]
  },
  {
   "cell_type": "code",
   "execution_count": 6,
   "id": "8a94ade5",
   "metadata": {
    "execution": {
     "iopub.execute_input": "2022-04-23T07:35:02.239332Z",
     "iopub.status.busy": "2022-04-23T07:35:02.239050Z",
     "iopub.status.idle": "2022-04-23T07:35:02.383528Z",
     "shell.execute_reply": "2022-04-23T07:35:02.382502Z"
    },
    "papermill": {
     "duration": 0.195107,
     "end_time": "2022-04-23T07:35:02.385857",
     "exception": false,
     "start_time": "2022-04-23T07:35:02.190750",
     "status": "completed"
    },
    "tags": []
   },
   "outputs": [
    {
     "name": "stdout",
     "output_type": "stream",
     "text": [
      "<class 'pandas.core.frame.DataFrame'>\n",
      "RangeIndex: 541909 entries, 0 to 541908\n",
      "Data columns (total 8 columns):\n",
      " #   Column       Non-Null Count   Dtype  \n",
      "---  ------       --------------   -----  \n",
      " 0   InvoiceNo    541909 non-null  object \n",
      " 1   StockCode    541909 non-null  object \n",
      " 2   Description  540455 non-null  object \n",
      " 3   Quantity     541909 non-null  int64  \n",
      " 4   InvoiceDate  541909 non-null  object \n",
      " 5   UnitPrice    541909 non-null  float64\n",
      " 6   CustomerID   406829 non-null  float64\n",
      " 7   Country      541909 non-null  object \n",
      "dtypes: float64(2), int64(1), object(5)\n",
      "memory usage: 33.1+ MB\n"
     ]
    }
   ],
   "source": [
    "data.info()"
   ]
  },
  {
   "cell_type": "code",
   "execution_count": 7,
   "id": "f89a431b",
   "metadata": {
    "execution": {
     "iopub.execute_input": "2022-04-23T07:35:02.482281Z",
     "iopub.status.busy": "2022-04-23T07:35:02.481991Z",
     "iopub.status.idle": "2022-04-23T07:35:02.605856Z",
     "shell.execute_reply": "2022-04-23T07:35:02.604956Z"
    },
    "papermill": {
     "duration": 0.174133,
     "end_time": "2022-04-23T07:35:02.608152",
     "exception": false,
     "start_time": "2022-04-23T07:35:02.434019",
     "status": "completed"
    },
    "tags": []
   },
   "outputs": [
    {
     "data": {
      "text/plain": [
       "InvoiceNo           0\n",
       "StockCode           0\n",
       "Description      1454\n",
       "Quantity            0\n",
       "InvoiceDate         0\n",
       "UnitPrice           0\n",
       "CustomerID     135080\n",
       "Country             0\n",
       "dtype: int64"
      ]
     },
     "execution_count": 7,
     "metadata": {},
     "output_type": "execute_result"
    }
   ],
   "source": [
    "data.isnull().sum()"
   ]
  },
  {
   "cell_type": "code",
   "execution_count": 8,
   "id": "d762afed",
   "metadata": {
    "execution": {
     "iopub.execute_input": "2022-04-23T07:35:02.704591Z",
     "iopub.status.busy": "2022-04-23T07:35:02.703695Z",
     "iopub.status.idle": "2022-04-23T07:35:02.872408Z",
     "shell.execute_reply": "2022-04-23T07:35:02.871492Z"
    },
    "papermill": {
     "duration": 0.219065,
     "end_time": "2022-04-23T07:35:02.874657",
     "exception": false,
     "start_time": "2022-04-23T07:35:02.655592",
     "status": "completed"
    },
    "tags": []
   },
   "outputs": [],
   "source": [
    "data = data.dropna()"
   ]
  },
  {
   "cell_type": "code",
   "execution_count": 9,
   "id": "b5ca10b3",
   "metadata": {
    "execution": {
     "iopub.execute_input": "2022-04-23T07:35:02.971749Z",
     "iopub.status.busy": "2022-04-23T07:35:02.971350Z",
     "iopub.status.idle": "2022-04-23T07:35:02.975727Z",
     "shell.execute_reply": "2022-04-23T07:35:02.975126Z"
    },
    "papermill": {
     "duration": 0.055302,
     "end_time": "2022-04-23T07:35:02.977415",
     "exception": false,
     "start_time": "2022-04-23T07:35:02.922113",
     "status": "completed"
    },
    "tags": []
   },
   "outputs": [
    {
     "data": {
      "text/plain": [
       "(406829, 8)"
      ]
     },
     "execution_count": 9,
     "metadata": {},
     "output_type": "execute_result"
    }
   ],
   "source": [
    "data.shape"
   ]
  },
  {
   "cell_type": "code",
   "execution_count": 10,
   "id": "d41a8a0c",
   "metadata": {
    "execution": {
     "iopub.execute_input": "2022-04-23T07:35:03.075699Z",
     "iopub.status.busy": "2022-04-23T07:35:03.075266Z",
     "iopub.status.idle": "2022-04-23T07:35:03.169053Z",
     "shell.execute_reply": "2022-04-23T07:35:03.168111Z"
    },
    "papermill": {
     "duration": 0.14641,
     "end_time": "2022-04-23T07:35:03.171303",
     "exception": false,
     "start_time": "2022-04-23T07:35:03.024893",
     "status": "completed"
    },
    "tags": []
   },
   "outputs": [
    {
     "data": {
      "text/plain": [
       "InvoiceNo      0\n",
       "StockCode      0\n",
       "Description    0\n",
       "Quantity       0\n",
       "InvoiceDate    0\n",
       "UnitPrice      0\n",
       "CustomerID     0\n",
       "Country        0\n",
       "dtype: int64"
      ]
     },
     "execution_count": 10,
     "metadata": {},
     "output_type": "execute_result"
    }
   ],
   "source": [
    "data.isnull().sum()"
   ]
  },
  {
   "cell_type": "code",
   "execution_count": 11,
   "id": "965bc5f7",
   "metadata": {
    "execution": {
     "iopub.execute_input": "2022-04-23T07:35:03.268965Z",
     "iopub.status.busy": "2022-04-23T07:35:03.268532Z",
     "iopub.status.idle": "2022-04-23T07:35:05.021654Z",
     "shell.execute_reply": "2022-04-23T07:35:05.020522Z"
    },
    "papermill": {
     "duration": 1.805357,
     "end_time": "2022-04-23T07:35:05.024696",
     "exception": false,
     "start_time": "2022-04-23T07:35:03.219339",
     "status": "completed"
    },
    "tags": []
   },
   "outputs": [],
   "source": [
    "#change the format of InvoiceDate\n",
    "data['InvoiceDate'] = pd.to_datetime(data['InvoiceDate'])"
   ]
  },
  {
   "cell_type": "code",
   "execution_count": 12,
   "id": "5d78028a",
   "metadata": {
    "execution": {
     "iopub.execute_input": "2022-04-23T07:35:05.123667Z",
     "iopub.status.busy": "2022-04-23T07:35:05.123411Z",
     "iopub.status.idle": "2022-04-23T07:35:05.137532Z",
     "shell.execute_reply": "2022-04-23T07:35:05.136667Z"
    },
    "papermill": {
     "duration": 0.066743,
     "end_time": "2022-04-23T07:35:05.139384",
     "exception": false,
     "start_time": "2022-04-23T07:35:05.072641",
     "status": "completed"
    },
    "tags": []
   },
   "outputs": [
    {
     "data": {
      "text/html": [
       "<div>\n",
       "<style scoped>\n",
       "    .dataframe tbody tr th:only-of-type {\n",
       "        vertical-align: middle;\n",
       "    }\n",
       "\n",
       "    .dataframe tbody tr th {\n",
       "        vertical-align: top;\n",
       "    }\n",
       "\n",
       "    .dataframe thead th {\n",
       "        text-align: right;\n",
       "    }\n",
       "</style>\n",
       "<table border=\"1\" class=\"dataframe\">\n",
       "  <thead>\n",
       "    <tr style=\"text-align: right;\">\n",
       "      <th></th>\n",
       "      <th>InvoiceNo</th>\n",
       "      <th>StockCode</th>\n",
       "      <th>Description</th>\n",
       "      <th>Quantity</th>\n",
       "      <th>InvoiceDate</th>\n",
       "      <th>UnitPrice</th>\n",
       "      <th>CustomerID</th>\n",
       "      <th>Country</th>\n",
       "    </tr>\n",
       "  </thead>\n",
       "  <tbody>\n",
       "    <tr>\n",
       "      <th>0</th>\n",
       "      <td>536365</td>\n",
       "      <td>85123A</td>\n",
       "      <td>WHITE HANGING HEART T-LIGHT HOLDER</td>\n",
       "      <td>6</td>\n",
       "      <td>2010-01-12 08:26:00</td>\n",
       "      <td>2.55</td>\n",
       "      <td>17850.0</td>\n",
       "      <td>United Kingdom</td>\n",
       "    </tr>\n",
       "    <tr>\n",
       "      <th>1</th>\n",
       "      <td>536365</td>\n",
       "      <td>71053</td>\n",
       "      <td>WHITE METAL LANTERN</td>\n",
       "      <td>6</td>\n",
       "      <td>2010-01-12 08:26:00</td>\n",
       "      <td>3.39</td>\n",
       "      <td>17850.0</td>\n",
       "      <td>United Kingdom</td>\n",
       "    </tr>\n",
       "    <tr>\n",
       "      <th>2</th>\n",
       "      <td>536365</td>\n",
       "      <td>84406B</td>\n",
       "      <td>CREAM CUPID HEARTS COAT HANGER</td>\n",
       "      <td>8</td>\n",
       "      <td>2010-01-12 08:26:00</td>\n",
       "      <td>2.75</td>\n",
       "      <td>17850.0</td>\n",
       "      <td>United Kingdom</td>\n",
       "    </tr>\n",
       "    <tr>\n",
       "      <th>3</th>\n",
       "      <td>536365</td>\n",
       "      <td>84029G</td>\n",
       "      <td>KNITTED UNION FLAG HOT WATER BOTTLE</td>\n",
       "      <td>6</td>\n",
       "      <td>2010-01-12 08:26:00</td>\n",
       "      <td>3.39</td>\n",
       "      <td>17850.0</td>\n",
       "      <td>United Kingdom</td>\n",
       "    </tr>\n",
       "    <tr>\n",
       "      <th>4</th>\n",
       "      <td>536365</td>\n",
       "      <td>84029E</td>\n",
       "      <td>RED WOOLLY HOTTIE WHITE HEART.</td>\n",
       "      <td>6</td>\n",
       "      <td>2010-01-12 08:26:00</td>\n",
       "      <td>3.39</td>\n",
       "      <td>17850.0</td>\n",
       "      <td>United Kingdom</td>\n",
       "    </tr>\n",
       "  </tbody>\n",
       "</table>\n",
       "</div>"
      ],
      "text/plain": [
       "  InvoiceNo StockCode                          Description  Quantity  \\\n",
       "0    536365    85123A   WHITE HANGING HEART T-LIGHT HOLDER         6   \n",
       "1    536365     71053                  WHITE METAL LANTERN         6   \n",
       "2    536365    84406B       CREAM CUPID HEARTS COAT HANGER         8   \n",
       "3    536365    84029G  KNITTED UNION FLAG HOT WATER BOTTLE         6   \n",
       "4    536365    84029E       RED WOOLLY HOTTIE WHITE HEART.         6   \n",
       "\n",
       "          InvoiceDate  UnitPrice  CustomerID         Country  \n",
       "0 2010-01-12 08:26:00       2.55     17850.0  United Kingdom  \n",
       "1 2010-01-12 08:26:00       3.39     17850.0  United Kingdom  \n",
       "2 2010-01-12 08:26:00       2.75     17850.0  United Kingdom  \n",
       "3 2010-01-12 08:26:00       3.39     17850.0  United Kingdom  \n",
       "4 2010-01-12 08:26:00       3.39     17850.0  United Kingdom  "
      ]
     },
     "execution_count": 12,
     "metadata": {},
     "output_type": "execute_result"
    }
   ],
   "source": [
    "data.head()"
   ]
  },
  {
   "cell_type": "code",
   "execution_count": 13,
   "id": "a53176d6",
   "metadata": {
    "execution": {
     "iopub.execute_input": "2022-04-23T07:35:05.239705Z",
     "iopub.status.busy": "2022-04-23T07:35:05.239175Z",
     "iopub.status.idle": "2022-04-23T07:35:05.320384Z",
     "shell.execute_reply": "2022-04-23T07:35:05.319676Z"
    },
    "papermill": {
     "duration": 0.133678,
     "end_time": "2022-04-23T07:35:05.322810",
     "exception": false,
     "start_time": "2022-04-23T07:35:05.189132",
     "status": "completed"
    },
    "tags": []
   },
   "outputs": [
    {
     "name": "stdout",
     "output_type": "stream",
     "text": [
      "<class 'pandas.core.frame.DataFrame'>\n",
      "Int64Index: 406829 entries, 0 to 541908\n",
      "Data columns (total 8 columns):\n",
      " #   Column       Non-Null Count   Dtype         \n",
      "---  ------       --------------   -----         \n",
      " 0   InvoiceNo    406829 non-null  object        \n",
      " 1   StockCode    406829 non-null  object        \n",
      " 2   Description  406829 non-null  object        \n",
      " 3   Quantity     406829 non-null  int64         \n",
      " 4   InvoiceDate  406829 non-null  datetime64[ns]\n",
      " 5   UnitPrice    406829 non-null  float64       \n",
      " 6   CustomerID   406829 non-null  float64       \n",
      " 7   Country      406829 non-null  object        \n",
      "dtypes: datetime64[ns](1), float64(2), int64(1), object(4)\n",
      "memory usage: 27.9+ MB\n"
     ]
    }
   ],
   "source": [
    "data.info()"
   ]
  },
  {
   "cell_type": "code",
   "execution_count": 14,
   "id": "c34c9d5b",
   "metadata": {
    "execution": {
     "iopub.execute_input": "2022-04-23T07:35:05.423292Z",
     "iopub.status.busy": "2022-04-23T07:35:05.422757Z",
     "iopub.status.idle": "2022-04-23T07:35:05.557841Z",
     "shell.execute_reply": "2022-04-23T07:35:05.557234Z"
    },
    "papermill": {
     "duration": 0.186517,
     "end_time": "2022-04-23T07:35:05.559561",
     "exception": false,
     "start_time": "2022-04-23T07:35:05.373044",
     "status": "completed"
    },
    "tags": []
   },
   "outputs": [
    {
     "data": {
      "text/html": [
       "<div>\n",
       "<style scoped>\n",
       "    .dataframe tbody tr th:only-of-type {\n",
       "        vertical-align: middle;\n",
       "    }\n",
       "\n",
       "    .dataframe tbody tr th {\n",
       "        vertical-align: top;\n",
       "    }\n",
       "\n",
       "    .dataframe thead th {\n",
       "        text-align: right;\n",
       "    }\n",
       "</style>\n",
       "<table border=\"1\" class=\"dataframe\">\n",
       "  <thead>\n",
       "    <tr style=\"text-align: right;\">\n",
       "      <th></th>\n",
       "      <th>InvoiceNo</th>\n",
       "      <th>StockCode</th>\n",
       "      <th>Description</th>\n",
       "      <th>Quantity</th>\n",
       "      <th>InvoiceDate</th>\n",
       "      <th>UnitPrice</th>\n",
       "      <th>CustomerID</th>\n",
       "      <th>Country</th>\n",
       "      <th>Date</th>\n",
       "    </tr>\n",
       "  </thead>\n",
       "  <tbody>\n",
       "    <tr>\n",
       "      <th>0</th>\n",
       "      <td>536365</td>\n",
       "      <td>85123A</td>\n",
       "      <td>WHITE HANGING HEART T-LIGHT HOLDER</td>\n",
       "      <td>6</td>\n",
       "      <td>2010-01-12 08:26:00</td>\n",
       "      <td>2.55</td>\n",
       "      <td>17850.0</td>\n",
       "      <td>United Kingdom</td>\n",
       "      <td>2010-01-12</td>\n",
       "    </tr>\n",
       "    <tr>\n",
       "      <th>1</th>\n",
       "      <td>536365</td>\n",
       "      <td>71053</td>\n",
       "      <td>WHITE METAL LANTERN</td>\n",
       "      <td>6</td>\n",
       "      <td>2010-01-12 08:26:00</td>\n",
       "      <td>3.39</td>\n",
       "      <td>17850.0</td>\n",
       "      <td>United Kingdom</td>\n",
       "      <td>2010-01-12</td>\n",
       "    </tr>\n",
       "    <tr>\n",
       "      <th>2</th>\n",
       "      <td>536365</td>\n",
       "      <td>84406B</td>\n",
       "      <td>CREAM CUPID HEARTS COAT HANGER</td>\n",
       "      <td>8</td>\n",
       "      <td>2010-01-12 08:26:00</td>\n",
       "      <td>2.75</td>\n",
       "      <td>17850.0</td>\n",
       "      <td>United Kingdom</td>\n",
       "      <td>2010-01-12</td>\n",
       "    </tr>\n",
       "    <tr>\n",
       "      <th>3</th>\n",
       "      <td>536365</td>\n",
       "      <td>84029G</td>\n",
       "      <td>KNITTED UNION FLAG HOT WATER BOTTLE</td>\n",
       "      <td>6</td>\n",
       "      <td>2010-01-12 08:26:00</td>\n",
       "      <td>3.39</td>\n",
       "      <td>17850.0</td>\n",
       "      <td>United Kingdom</td>\n",
       "      <td>2010-01-12</td>\n",
       "    </tr>\n",
       "    <tr>\n",
       "      <th>4</th>\n",
       "      <td>536365</td>\n",
       "      <td>84029E</td>\n",
       "      <td>RED WOOLLY HOTTIE WHITE HEART.</td>\n",
       "      <td>6</td>\n",
       "      <td>2010-01-12 08:26:00</td>\n",
       "      <td>3.39</td>\n",
       "      <td>17850.0</td>\n",
       "      <td>United Kingdom</td>\n",
       "      <td>2010-01-12</td>\n",
       "    </tr>\n",
       "  </tbody>\n",
       "</table>\n",
       "</div>"
      ],
      "text/plain": [
       "  InvoiceNo StockCode                          Description  Quantity  \\\n",
       "0    536365    85123A   WHITE HANGING HEART T-LIGHT HOLDER         6   \n",
       "1    536365     71053                  WHITE METAL LANTERN         6   \n",
       "2    536365    84406B       CREAM CUPID HEARTS COAT HANGER         8   \n",
       "3    536365    84029G  KNITTED UNION FLAG HOT WATER BOTTLE         6   \n",
       "4    536365    84029E       RED WOOLLY HOTTIE WHITE HEART.         6   \n",
       "\n",
       "          InvoiceDate  UnitPrice  CustomerID         Country        Date  \n",
       "0 2010-01-12 08:26:00       2.55     17850.0  United Kingdom  2010-01-12  \n",
       "1 2010-01-12 08:26:00       3.39     17850.0  United Kingdom  2010-01-12  \n",
       "2 2010-01-12 08:26:00       2.75     17850.0  United Kingdom  2010-01-12  \n",
       "3 2010-01-12 08:26:00       3.39     17850.0  United Kingdom  2010-01-12  \n",
       "4 2010-01-12 08:26:00       3.39     17850.0  United Kingdom  2010-01-12  "
      ]
     },
     "execution_count": 14,
     "metadata": {},
     "output_type": "execute_result"
    }
   ],
   "source": [
    "# delet the hour and creat the new column Date instead of InvoiceDate\n",
    "data['Date']=data['InvoiceDate'].dt.date\n",
    "data.head()"
   ]
  },
  {
   "cell_type": "code",
   "execution_count": 15,
   "id": "dc4a7f57",
   "metadata": {
    "execution": {
     "iopub.execute_input": "2022-04-23T07:35:05.660578Z",
     "iopub.status.busy": "2022-04-23T07:35:05.660056Z",
     "iopub.status.idle": "2022-04-23T07:35:05.667433Z",
     "shell.execute_reply": "2022-04-23T07:35:05.666296Z"
    },
    "papermill": {
     "duration": 0.060701,
     "end_time": "2022-04-23T07:35:05.669222",
     "exception": false,
     "start_time": "2022-04-23T07:35:05.608521",
     "status": "completed"
    },
    "tags": []
   },
   "outputs": [
    {
     "data": {
      "text/plain": [
       "0         2010-01-12\n",
       "1         2010-01-12\n",
       "2         2010-01-12\n",
       "3         2010-01-12\n",
       "4         2010-01-12\n",
       "             ...    \n",
       "541904    2011-09-12\n",
       "541905    2011-09-12\n",
       "541906    2011-09-12\n",
       "541907    2011-09-12\n",
       "541908    2011-09-12\n",
       "Name: Date, Length: 406829, dtype: object"
      ]
     },
     "execution_count": 15,
     "metadata": {},
     "output_type": "execute_result"
    }
   ],
   "source": [
    "data['Date']"
   ]
  },
  {
   "cell_type": "code",
   "execution_count": 16,
   "id": "58260663",
   "metadata": {
    "execution": {
     "iopub.execute_input": "2022-04-23T07:35:05.769815Z",
     "iopub.status.busy": "2022-04-23T07:35:05.769051Z",
     "iopub.status.idle": "2022-04-23T07:35:06.139318Z",
     "shell.execute_reply": "2022-04-23T07:35:06.138428Z"
    },
    "papermill": {
     "duration": 0.42302,
     "end_time": "2022-04-23T07:35:06.141628",
     "exception": false,
     "start_time": "2022-04-23T07:35:05.718608",
     "status": "completed"
    },
    "tags": []
   },
   "outputs": [
    {
     "data": {
      "text/plain": [
       "(array([14610., 14700., 14791., 14883., 14975., 15065., 15156., 15248.,\n",
       "        15340.]),\n",
       " [Text(0, 0, ''),\n",
       "  Text(0, 0, ''),\n",
       "  Text(0, 0, ''),\n",
       "  Text(0, 0, ''),\n",
       "  Text(0, 0, ''),\n",
       "  Text(0, 0, ''),\n",
       "  Text(0, 0, ''),\n",
       "  Text(0, 0, ''),\n",
       "  Text(0, 0, '')])"
      ]
     },
     "execution_count": 16,
     "metadata": {},
     "output_type": "execute_result"
    },
    {
     "data": {
      "image/png": "[encoded data removed]",
      "text/plain": [
       "<Figure size 432x288 with 1 Axes>"
      ]
     },
     "metadata": {
      "needs_background": "light"
     },
     "output_type": "display_data"
    }
   ],
   "source": [
    "#daily demand\n",
    "daily_demand = data.groupby(by = ['Date'])['InvoiceNo'].count()\n",
    "daily_demand.plot()\n",
    "plt.xticks(rotation = 90) "
   ]
  },
  {
   "cell_type": "markdown",
   "id": "558bdc48",
   "metadata": {
    "papermill": {
     "duration": 0.05012,
     "end_time": "2022-04-23T07:35:06.242747",
     "exception": false,
     "start_time": "2022-04-23T07:35:06.192627",
     "status": "completed"
    },
    "tags": []
   },
   "source": [
    "## Creating 'Amount' column to see total transaction amount"
   ]
  },
  {
   "cell_type": "code",
   "execution_count": 17,
   "id": "ebf4e3a9",
   "metadata": {
    "execution": {
     "iopub.execute_input": "2022-04-23T07:35:06.346420Z",
     "iopub.status.busy": "2022-04-23T07:35:06.345577Z",
     "iopub.status.idle": "2022-04-23T07:35:06.363375Z",
     "shell.execute_reply": "2022-04-23T07:35:06.362550Z"
    },
    "papermill": {
     "duration": 0.07159,
     "end_time": "2022-04-23T07:35:06.365270",
     "exception": false,
     "start_time": "2022-04-23T07:35:06.293680",
     "status": "completed"
    },
    "tags": []
   },
   "outputs": [
    {
     "data": {
      "text/html": [
       "<div>\n",
       "<style scoped>\n",
       "    .dataframe tbody tr th:only-of-type {\n",
       "        vertical-align: middle;\n",
       "    }\n",
       "\n",
       "    .dataframe tbody tr th {\n",
       "        vertical-align: top;\n",
       "    }\n",
       "\n",
       "    .dataframe thead th {\n",
       "        text-align: right;\n",
       "    }\n",
       "</style>\n",
       "<table border=\"1\" class=\"dataframe\">\n",
       "  <thead>\n",
       "    <tr style=\"text-align: right;\">\n",
       "      <th></th>\n",
       "      <th>InvoiceNo</th>\n",
       "      <th>StockCode</th>\n",
       "      <th>Description</th>\n",
       "      <th>Quantity</th>\n",
       "      <th>InvoiceDate</th>\n",
       "      <th>UnitPrice</th>\n",
       "      <th>CustomerID</th>\n",
       "      <th>Country</th>\n",
       "      <th>Date</th>\n",
       "      <th>Amount</th>\n",
       "    </tr>\n",
       "  </thead>\n",
       "  <tbody>\n",
       "    <tr>\n",
       "      <th>0</th>\n",
       "      <td>536365</td>\n",
       "      <td>85123A</td>\n",
       "      <td>WHITE HANGING HEART T-LIGHT HOLDER</td>\n",
       "      <td>6</td>\n",
       "      <td>2010-01-12 08:26:00</td>\n",
       "      <td>2.55</td>\n",
       "      <td>17850.0</td>\n",
       "      <td>United Kingdom</td>\n",
       "      <td>2010-01-12</td>\n",
       "      <td>15.30</td>\n",
       "    </tr>\n",
       "    <tr>\n",
       "      <th>1</th>\n",
       "      <td>536365</td>\n",
       "      <td>71053</td>\n",
       "      <td>WHITE METAL LANTERN</td>\n",
       "      <td>6</td>\n",
       "      <td>2010-01-12 08:26:00</td>\n",
       "      <td>3.39</td>\n",
       "      <td>17850.0</td>\n",
       "      <td>United Kingdom</td>\n",
       "      <td>2010-01-12</td>\n",
       "      <td>20.34</td>\n",
       "    </tr>\n",
       "    <tr>\n",
       "      <th>2</th>\n",
       "      <td>536365</td>\n",
       "      <td>84406B</td>\n",
       "      <td>CREAM CUPID HEARTS COAT HANGER</td>\n",
       "      <td>8</td>\n",
       "      <td>2010-01-12 08:26:00</td>\n",
       "      <td>2.75</td>\n",
       "      <td>17850.0</td>\n",
       "      <td>United Kingdom</td>\n",
       "      <td>2010-01-12</td>\n",
       "      <td>22.00</td>\n",
       "    </tr>\n",
       "    <tr>\n",
       "      <th>3</th>\n",
       "      <td>536365</td>\n",
       "      <td>84029G</td>\n",
       "      <td>KNITTED UNION FLAG HOT WATER BOTTLE</td>\n",
       "      <td>6</td>\n",
       "      <td>2010-01-12 08:26:00</td>\n",
       "      <td>3.39</td>\n",
       "      <td>17850.0</td>\n",
       "      <td>United Kingdom</td>\n",
       "      <td>2010-01-12</td>\n",
       "      <td>20.34</td>\n",
       "    </tr>\n",
       "    <tr>\n",
       "      <th>4</th>\n",
       "      <td>536365</td>\n",
       "      <td>84029E</td>\n",
       "      <td>RED WOOLLY HOTTIE WHITE HEART.</td>\n",
       "      <td>6</td>\n",
       "      <td>2010-01-12 08:26:00</td>\n",
       "      <td>3.39</td>\n",
       "      <td>17850.0</td>\n",
       "      <td>United Kingdom</td>\n",
       "      <td>2010-01-12</td>\n",
       "      <td>20.34</td>\n",
       "    </tr>\n",
       "  </tbody>\n",
       "</table>\n",
       "</div>"
      ],
      "text/plain": [
       "  InvoiceNo StockCode                          Description  Quantity  \\\n",
       "0    536365    85123A   WHITE HANGING HEART T-LIGHT HOLDER         6   \n",
       "1    536365     71053                  WHITE METAL LANTERN         6   \n",
       "2    536365    84406B       CREAM CUPID HEARTS COAT HANGER         8   \n",
       "3    536365    84029G  KNITTED UNION FLAG HOT WATER BOTTLE         6   \n",
       "4    536365    84029E       RED WOOLLY HOTTIE WHITE HEART.         6   \n",
       "\n",
       "          InvoiceDate  UnitPrice  CustomerID         Country        Date  \\\n",
       "0 2010-01-12 08:26:00       2.55     17850.0  United Kingdom  2010-01-12   \n",
       "1 2010-01-12 08:26:00       3.39     17850.0  United Kingdom  2010-01-12   \n",
       "2 2010-01-12 08:26:00       2.75     17850.0  United Kingdom  2010-01-12   \n",
       "3 2010-01-12 08:26:00       3.39     17850.0  United Kingdom  2010-01-12   \n",
       "4 2010-01-12 08:26:00       3.39     17850.0  United Kingdom  2010-01-12   \n",
       "\n",
       "   Amount  \n",
       "0   15.30  \n",
       "1   20.34  \n",
       "2   22.00  \n",
       "3   20.34  \n",
       "4   20.34  "
      ]
     },
     "execution_count": 17,
     "metadata": {},
     "output_type": "execute_result"
    }
   ],
   "source": [
    "data['Amount'] = data['UnitPrice'] * data['Quantity'] \n",
    "data.head()"
   ]
  },
  {
   "cell_type": "markdown",
   "id": "a5824cff",
   "metadata": {
    "papermill": {
     "duration": 0.050832,
     "end_time": "2022-04-23T07:35:06.467459",
     "exception": false,
     "start_time": "2022-04-23T07:35:06.416627",
     "status": "completed"
    },
    "tags": []
   },
   "source": [
    "## Create RFM Dataset"
   ]
  },
  {
   "cell_type": "markdown",
   "id": "c64c2d56",
   "metadata": {
    "papermill": {
     "duration": 0.051814,
     "end_time": "2022-04-23T07:35:06.570546",
     "exception": false,
     "start_time": "2022-04-23T07:35:06.518732",
     "status": "completed"
    },
    "tags": []
   },
   "source": [
    "###  Monetary data (total of all the transactions of a customer)\n",
    "How much money did the customer spend?Monetary is defined as the amount of money spent by the customer during a certain period. \n"
   ]
  },
  {
   "cell_type": "code",
   "execution_count": 18,
   "id": "c0ba912d",
   "metadata": {
    "execution": {
     "iopub.execute_input": "2022-04-23T07:35:06.674401Z",
     "iopub.status.busy": "2022-04-23T07:35:06.673964Z",
     "iopub.status.idle": "2022-04-23T07:35:06.706276Z",
     "shell.execute_reply": "2022-04-23T07:35:06.705266Z"
    },
    "papermill": {
     "duration": 0.086627,
     "end_time": "2022-04-23T07:35:06.708308",
     "exception": false,
     "start_time": "2022-04-23T07:35:06.621681",
     "status": "completed"
    },
    "tags": []
   },
   "outputs": [
    {
     "data": {
      "text/html": [
       "<div>\n",
       "<style scoped>\n",
       "    .dataframe tbody tr th:only-of-type {\n",
       "        vertical-align: middle;\n",
       "    }\n",
       "\n",
       "    .dataframe tbody tr th {\n",
       "        vertical-align: top;\n",
       "    }\n",
       "\n",
       "    .dataframe thead th {\n",
       "        text-align: right;\n",
       "    }\n",
       "</style>\n",
       "<table border=\"1\" class=\"dataframe\">\n",
       "  <thead>\n",
       "    <tr style=\"text-align: right;\">\n",
       "      <th></th>\n",
       "      <th>monetary</th>\n",
       "    </tr>\n",
       "    <tr>\n",
       "      <th>CustomerID</th>\n",
       "      <th></th>\n",
       "    </tr>\n",
       "  </thead>\n",
       "  <tbody>\n",
       "    <tr>\n",
       "      <th>12346.0</th>\n",
       "      <td>0.00</td>\n",
       "    </tr>\n",
       "    <tr>\n",
       "      <th>12347.0</th>\n",
       "      <td>4310.00</td>\n",
       "    </tr>\n",
       "    <tr>\n",
       "      <th>12348.0</th>\n",
       "      <td>1797.24</td>\n",
       "    </tr>\n",
       "    <tr>\n",
       "      <th>12349.0</th>\n",
       "      <td>1757.55</td>\n",
       "    </tr>\n",
       "    <tr>\n",
       "      <th>12350.0</th>\n",
       "      <td>334.40</td>\n",
       "    </tr>\n",
       "  </tbody>\n",
       "</table>\n",
       "</div>"
      ],
      "text/plain": [
       "            monetary\n",
       "CustomerID          \n",
       "12346.0         0.00\n",
       "12347.0      4310.00\n",
       "12348.0      1797.24\n",
       "12349.0      1757.55\n",
       "12350.0       334.40"
      ]
     },
     "execution_count": 18,
     "metadata": {},
     "output_type": "execute_result"
    }
   ],
   "source": [
    "data1=pd.DataFrame({'monetary': data.groupby(by = ['CustomerID'])['Amount'].sum()})\n",
    "data1.head()"
   ]
  },
  {
   "cell_type": "code",
   "execution_count": 19,
   "id": "ad7e6b58",
   "metadata": {
    "execution": {
     "iopub.execute_input": "2022-04-23T07:35:06.812769Z",
     "iopub.status.busy": "2022-04-23T07:35:06.812134Z",
     "iopub.status.idle": "2022-04-23T07:35:07.082951Z",
     "shell.execute_reply": "2022-04-23T07:35:07.082092Z"
    },
    "papermill": {
     "duration": 0.325366,
     "end_time": "2022-04-23T07:35:07.085049",
     "exception": false,
     "start_time": "2022-04-23T07:35:06.759683",
     "status": "completed"
    },
    "tags": []
   },
   "outputs": [
    {
     "data": {
      "text/plain": [
       "Text(0, 0.5, 'Frequency')"
      ]
     },
     "execution_count": 19,
     "metadata": {},
     "output_type": "execute_result"
    },
    {
     "data": {
      "image/png": "[encoded data removed]",
      "text/plain": [
       "<Figure size 432x288 with 1 Axes>"
      ]
     },
     "metadata": {
      "needs_background": "light"
     },
     "output_type": "display_data"
    }
   ],
   "source": [
    "#Histogram of monetary\n",
    "plt.hist(data1['monetary'], color = 'green', \n",
    "         bins = np.linspace(data1['monetary'].min(), data1['monetary'].max(), 50))\n",
    "plt.xlabel('Monetary')\n",
    "plt.ylabel('Frequency')"
   ]
  },
  {
   "cell_type": "code",
   "execution_count": 20,
   "id": "b55797e1",
   "metadata": {
    "execution": {
     "iopub.execute_input": "2022-04-23T07:35:07.192785Z",
     "iopub.status.busy": "2022-04-23T07:35:07.192150Z",
     "iopub.status.idle": "2022-04-23T07:35:07.206721Z",
     "shell.execute_reply": "2022-04-23T07:35:07.206079Z"
    },
    "papermill": {
     "duration": 0.071127,
     "end_time": "2022-04-23T07:35:07.208636",
     "exception": false,
     "start_time": "2022-04-23T07:35:07.137509",
     "status": "completed"
    },
    "tags": []
   },
   "outputs": [
    {
     "data": {
      "text/html": [
       "<div>\n",
       "<style scoped>\n",
       "    .dataframe tbody tr th:only-of-type {\n",
       "        vertical-align: middle;\n",
       "    }\n",
       "\n",
       "    .dataframe tbody tr th {\n",
       "        vertical-align: top;\n",
       "    }\n",
       "\n",
       "    .dataframe thead th {\n",
       "        text-align: right;\n",
       "    }\n",
       "</style>\n",
       "<table border=\"1\" class=\"dataframe\">\n",
       "  <thead>\n",
       "    <tr style=\"text-align: right;\">\n",
       "      <th></th>\n",
       "      <th>monetary</th>\n",
       "    </tr>\n",
       "  </thead>\n",
       "  <tbody>\n",
       "    <tr>\n",
       "      <th>count</th>\n",
       "      <td>4372.000000</td>\n",
       "    </tr>\n",
       "    <tr>\n",
       "      <th>mean</th>\n",
       "      <td>1898.459701</td>\n",
       "    </tr>\n",
       "    <tr>\n",
       "      <th>std</th>\n",
       "      <td>8219.345141</td>\n",
       "    </tr>\n",
       "    <tr>\n",
       "      <th>min</th>\n",
       "      <td>-4287.630000</td>\n",
       "    </tr>\n",
       "    <tr>\n",
       "      <th>25%</th>\n",
       "      <td>293.362500</td>\n",
       "    </tr>\n",
       "    <tr>\n",
       "      <th>50%</th>\n",
       "      <td>648.075000</td>\n",
       "    </tr>\n",
       "    <tr>\n",
       "      <th>75%</th>\n",
       "      <td>1611.725000</td>\n",
       "    </tr>\n",
       "    <tr>\n",
       "      <th>max</th>\n",
       "      <td>279489.020000</td>\n",
       "    </tr>\n",
       "  </tbody>\n",
       "</table>\n",
       "</div>"
      ],
      "text/plain": [
       "            monetary\n",
       "count    4372.000000\n",
       "mean     1898.459701\n",
       "std      8219.345141\n",
       "min     -4287.630000\n",
       "25%       293.362500\n",
       "50%       648.075000\n",
       "75%      1611.725000\n",
       "max    279489.020000"
      ]
     },
     "execution_count": 20,
     "metadata": {},
     "output_type": "execute_result"
    }
   ],
   "source": [
    "data1.describe()"
   ]
  },
  {
   "cell_type": "markdown",
   "id": "436e0604",
   "metadata": {
    "papermill": {
     "duration": 0.052738,
     "end_time": "2022-04-23T07:35:07.315461",
     "exception": false,
     "start_time": "2022-04-23T07:35:07.262723",
     "status": "completed"
    },
    "tags": []
   },
   "source": [
    "### Frequency:\n",
    "How many times did the customer purchase? Frequency is defined as the number of purchases a customer makes in a specific period."
   ]
  },
  {
   "cell_type": "code",
   "execution_count": 21,
   "id": "2bf9568e",
   "metadata": {
    "execution": {
     "iopub.execute_input": "2022-04-23T07:35:07.423642Z",
     "iopub.status.busy": "2022-04-23T07:35:07.423057Z",
     "iopub.status.idle": "2022-04-23T07:35:07.459428Z",
     "shell.execute_reply": "2022-04-23T07:35:07.458704Z"
    },
    "papermill": {
     "duration": 0.092834,
     "end_time": "2022-04-23T07:35:07.461354",
     "exception": false,
     "start_time": "2022-04-23T07:35:07.368520",
     "status": "completed"
    },
    "tags": []
   },
   "outputs": [
    {
     "data": {
      "text/html": [
       "<div>\n",
       "<style scoped>\n",
       "    .dataframe tbody tr th:only-of-type {\n",
       "        vertical-align: middle;\n",
       "    }\n",
       "\n",
       "    .dataframe tbody tr th {\n",
       "        vertical-align: top;\n",
       "    }\n",
       "\n",
       "    .dataframe thead th {\n",
       "        text-align: right;\n",
       "    }\n",
       "</style>\n",
       "<table border=\"1\" class=\"dataframe\">\n",
       "  <thead>\n",
       "    <tr style=\"text-align: right;\">\n",
       "      <th></th>\n",
       "      <th>freq</th>\n",
       "    </tr>\n",
       "    <tr>\n",
       "      <th>CustomerID</th>\n",
       "      <th></th>\n",
       "    </tr>\n",
       "  </thead>\n",
       "  <tbody>\n",
       "    <tr>\n",
       "      <th>12346.0</th>\n",
       "      <td>2</td>\n",
       "    </tr>\n",
       "    <tr>\n",
       "      <th>12347.0</th>\n",
       "      <td>182</td>\n",
       "    </tr>\n",
       "    <tr>\n",
       "      <th>12348.0</th>\n",
       "      <td>31</td>\n",
       "    </tr>\n",
       "    <tr>\n",
       "      <th>12349.0</th>\n",
       "      <td>73</td>\n",
       "    </tr>\n",
       "    <tr>\n",
       "      <th>12350.0</th>\n",
       "      <td>17</td>\n",
       "    </tr>\n",
       "  </tbody>\n",
       "</table>\n",
       "</div>"
      ],
      "text/plain": [
       "            freq\n",
       "CustomerID      \n",
       "12346.0        2\n",
       "12347.0      182\n",
       "12348.0       31\n",
       "12349.0       73\n",
       "12350.0       17"
      ]
     },
     "execution_count": 21,
     "metadata": {},
     "output_type": "execute_result"
    }
   ],
   "source": [
    "data2 = pd.DataFrame({'freq': data.groupby(by = ['CustomerID'])['InvoiceNo'].count()})\n",
    "data2.head()"
   ]
  },
  {
   "cell_type": "code",
   "execution_count": 22,
   "id": "dc0f44e9",
   "metadata": {
    "execution": {
     "iopub.execute_input": "2022-04-23T07:35:07.574439Z",
     "iopub.status.busy": "2022-04-23T07:35:07.573934Z",
     "iopub.status.idle": "2022-04-23T07:35:07.865393Z",
     "shell.execute_reply": "2022-04-23T07:35:07.864361Z"
    },
    "papermill": {
     "duration": 0.350207,
     "end_time": "2022-04-23T07:35:07.867511",
     "exception": false,
     "start_time": "2022-04-23T07:35:07.517304",
     "status": "completed"
    },
    "tags": []
   },
   "outputs": [
    {
     "data": {
      "text/plain": [
       "Text(0, 0.5, 'Frequency')"
      ]
     },
     "execution_count": 22,
     "metadata": {},
     "output_type": "execute_result"
    },
    {
     "data": {
      "image/png": "[encoded data removed]",
      "text/plain": [
       "<Figure size 432x288 with 1 Axes>"
      ]
     },
     "metadata": {
      "needs_background": "light"
     },
     "output_type": "display_data"
    }
   ],
   "source": [
    "#Histogram of  frequency\n",
    "plt.hist(data2['freq'], color = 'green', \n",
    "         bins = np.linspace(data2['freq'].min(), data2['freq'].max(), 50))\n",
    "plt.xlabel('Purchase Frequency')\n",
    "plt.ylabel('Frequency')"
   ]
  },
  {
   "cell_type": "code",
   "execution_count": 23,
   "id": "2195b3ed",
   "metadata": {
    "execution": {
     "iopub.execute_input": "2022-04-23T07:35:07.977708Z",
     "iopub.status.busy": "2022-04-23T07:35:07.977427Z",
     "iopub.status.idle": "2022-04-23T07:35:08.009123Z",
     "shell.execute_reply": "2022-04-23T07:35:08.008278Z"
    },
    "papermill": {
     "duration": 0.089745,
     "end_time": "2022-04-23T07:35:08.011407",
     "exception": false,
     "start_time": "2022-04-23T07:35:07.921662",
     "status": "completed"
    },
    "tags": []
   },
   "outputs": [
    {
     "data": {
      "text/plain": [
       "datetime.date(2011, 12, 10)"
      ]
     },
     "execution_count": 23,
     "metadata": {},
     "output_type": "execute_result"
    }
   ],
   "source": [
    "data['Date'].max()"
   ]
  },
  {
   "cell_type": "markdown",
   "id": "3d768974",
   "metadata": {
    "papermill": {
     "duration": 0.054879,
     "end_time": "2022-04-23T07:35:08.126287",
     "exception": false,
     "start_time": "2022-04-23T07:35:08.071408",
     "status": "completed"
    },
    "tags": []
   },
   "source": [
    "### Recency:\n",
    " When was the last time the customer made a purchase?Recency value is the number of days a customer takes between two purchases. "
   ]
  },
  {
   "cell_type": "code",
   "execution_count": 24,
   "id": "d01c9d9a",
   "metadata": {
    "execution": {
     "iopub.execute_input": "2022-04-23T07:35:08.238039Z",
     "iopub.status.busy": "2022-04-23T07:35:08.237231Z",
     "iopub.status.idle": "2022-04-23T07:35:09.014255Z",
     "shell.execute_reply": "2022-04-23T07:35:09.013446Z"
    },
    "papermill": {
     "duration": 0.834747,
     "end_time": "2022-04-23T07:35:09.016266",
     "exception": false,
     "start_time": "2022-04-23T07:35:08.181519",
     "status": "completed"
    },
    "tags": []
   },
   "outputs": [
    {
     "data": {
      "text/plain": [
       "0        697 days\n",
       "1        697 days\n",
       "2        697 days\n",
       "3        697 days\n",
       "4        697 days\n",
       "           ...   \n",
       "541904    89 days\n",
       "541905    89 days\n",
       "541906    89 days\n",
       "541907    89 days\n",
       "541908    89 days\n",
       "Name: Date, Length: 406829, dtype: timedelta64[ns]"
      ]
     },
     "execution_count": 24,
     "metadata": {},
     "output_type": "execute_result"
    }
   ],
   "source": [
    "Last_transact = pd.to_datetime(data['Date'].max()).date() - data['Date']\n",
    "Last_transact"
   ]
  },
  {
   "cell_type": "code",
   "execution_count": 25,
   "id": "527ded8b",
   "metadata": {
    "execution": {
     "iopub.execute_input": "2022-04-23T07:35:09.130083Z",
     "iopub.status.busy": "2022-04-23T07:35:09.129480Z",
     "iopub.status.idle": "2022-04-23T07:35:09.142602Z",
     "shell.execute_reply": "2022-04-23T07:35:09.141672Z"
    },
    "papermill": {
     "duration": 0.071766,
     "end_time": "2022-04-23T07:35:09.144740",
     "exception": false,
     "start_time": "2022-04-23T07:35:09.072974",
     "status": "completed"
    },
    "tags": []
   },
   "outputs": [
    {
     "data": {
      "text/plain": [
       "0         697\n",
       "1         697\n",
       "2         697\n",
       "3         697\n",
       "4         697\n",
       "         ... \n",
       "541904     89\n",
       "541905     89\n",
       "541906     89\n",
       "541907     89\n",
       "541908     89\n",
       "Name: Date, Length: 406829, dtype: int64"
      ]
     },
     "execution_count": 25,
     "metadata": {},
     "output_type": "execute_result"
    }
   ],
   "source": [
    "Last_transact.dt.days"
   ]
  },
  {
   "cell_type": "code",
   "execution_count": 26,
   "id": "580cdae6",
   "metadata": {
    "execution": {
     "iopub.execute_input": "2022-04-23T07:35:09.258471Z",
     "iopub.status.busy": "2022-04-23T07:35:09.257928Z",
     "iopub.status.idle": "2022-04-23T07:35:09.282556Z",
     "shell.execute_reply": "2022-04-23T07:35:09.281607Z"
    },
    "papermill": {
     "duration": 0.083439,
     "end_time": "2022-04-23T07:35:09.284833",
     "exception": false,
     "start_time": "2022-04-23T07:35:09.201394",
     "status": "completed"
    },
    "tags": []
   },
   "outputs": [
    {
     "data": {
      "text/html": [
       "<div>\n",
       "<style scoped>\n",
       "    .dataframe tbody tr th:only-of-type {\n",
       "        vertical-align: middle;\n",
       "    }\n",
       "\n",
       "    .dataframe tbody tr th {\n",
       "        vertical-align: top;\n",
       "    }\n",
       "\n",
       "    .dataframe thead th {\n",
       "        text-align: right;\n",
       "    }\n",
       "</style>\n",
       "<table border=\"1\" class=\"dataframe\">\n",
       "  <thead>\n",
       "    <tr style=\"text-align: right;\">\n",
       "      <th></th>\n",
       "      <th>InvoiceNo</th>\n",
       "      <th>StockCode</th>\n",
       "      <th>Description</th>\n",
       "      <th>Quantity</th>\n",
       "      <th>InvoiceDate</th>\n",
       "      <th>UnitPrice</th>\n",
       "      <th>CustomerID</th>\n",
       "      <th>Country</th>\n",
       "      <th>Date</th>\n",
       "      <th>Amount</th>\n",
       "      <th>Last_transact</th>\n",
       "    </tr>\n",
       "  </thead>\n",
       "  <tbody>\n",
       "    <tr>\n",
       "      <th>0</th>\n",
       "      <td>536365</td>\n",
       "      <td>85123A</td>\n",
       "      <td>WHITE HANGING HEART T-LIGHT HOLDER</td>\n",
       "      <td>6</td>\n",
       "      <td>2010-01-12 08:26:00</td>\n",
       "      <td>2.55</td>\n",
       "      <td>17850.0</td>\n",
       "      <td>United Kingdom</td>\n",
       "      <td>2010-01-12</td>\n",
       "      <td>15.30</td>\n",
       "      <td>697</td>\n",
       "    </tr>\n",
       "    <tr>\n",
       "      <th>1</th>\n",
       "      <td>536365</td>\n",
       "      <td>71053</td>\n",
       "      <td>WHITE METAL LANTERN</td>\n",
       "      <td>6</td>\n",
       "      <td>2010-01-12 08:26:00</td>\n",
       "      <td>3.39</td>\n",
       "      <td>17850.0</td>\n",
       "      <td>United Kingdom</td>\n",
       "      <td>2010-01-12</td>\n",
       "      <td>20.34</td>\n",
       "      <td>697</td>\n",
       "    </tr>\n",
       "    <tr>\n",
       "      <th>2</th>\n",
       "      <td>536365</td>\n",
       "      <td>84406B</td>\n",
       "      <td>CREAM CUPID HEARTS COAT HANGER</td>\n",
       "      <td>8</td>\n",
       "      <td>2010-01-12 08:26:00</td>\n",
       "      <td>2.75</td>\n",
       "      <td>17850.0</td>\n",
       "      <td>United Kingdom</td>\n",
       "      <td>2010-01-12</td>\n",
       "      <td>22.00</td>\n",
       "      <td>697</td>\n",
       "    </tr>\n",
       "    <tr>\n",
       "      <th>3</th>\n",
       "      <td>536365</td>\n",
       "      <td>84029G</td>\n",
       "      <td>KNITTED UNION FLAG HOT WATER BOTTLE</td>\n",
       "      <td>6</td>\n",
       "      <td>2010-01-12 08:26:00</td>\n",
       "      <td>3.39</td>\n",
       "      <td>17850.0</td>\n",
       "      <td>United Kingdom</td>\n",
       "      <td>2010-01-12</td>\n",
       "      <td>20.34</td>\n",
       "      <td>697</td>\n",
       "    </tr>\n",
       "    <tr>\n",
       "      <th>4</th>\n",
       "      <td>536365</td>\n",
       "      <td>84029E</td>\n",
       "      <td>RED WOOLLY HOTTIE WHITE HEART.</td>\n",
       "      <td>6</td>\n",
       "      <td>2010-01-12 08:26:00</td>\n",
       "      <td>3.39</td>\n",
       "      <td>17850.0</td>\n",
       "      <td>United Kingdom</td>\n",
       "      <td>2010-01-12</td>\n",
       "      <td>20.34</td>\n",
       "      <td>697</td>\n",
       "    </tr>\n",
       "  </tbody>\n",
       "</table>\n",
       "</div>"
      ],
      "text/plain": [
       "  InvoiceNo StockCode                          Description  Quantity  \\\n",
       "0    536365    85123A   WHITE HANGING HEART T-LIGHT HOLDER         6   \n",
       "1    536365     71053                  WHITE METAL LANTERN         6   \n",
       "2    536365    84406B       CREAM CUPID HEARTS COAT HANGER         8   \n",
       "3    536365    84029G  KNITTED UNION FLAG HOT WATER BOTTLE         6   \n",
       "4    536365    84029E       RED WOOLLY HOTTIE WHITE HEART.         6   \n",
       "\n",
       "          InvoiceDate  UnitPrice  CustomerID         Country        Date  \\\n",
       "0 2010-01-12 08:26:00       2.55     17850.0  United Kingdom  2010-01-12   \n",
       "1 2010-01-12 08:26:00       3.39     17850.0  United Kingdom  2010-01-12   \n",
       "2 2010-01-12 08:26:00       2.75     17850.0  United Kingdom  2010-01-12   \n",
       "3 2010-01-12 08:26:00       3.39     17850.0  United Kingdom  2010-01-12   \n",
       "4 2010-01-12 08:26:00       3.39     17850.0  United Kingdom  2010-01-12   \n",
       "\n",
       "   Amount  Last_transact  \n",
       "0   15.30            697  \n",
       "1   20.34            697  \n",
       "2   22.00            697  \n",
       "3   20.34            697  \n",
       "4   20.34            697  "
      ]
     },
     "execution_count": 26,
     "metadata": {},
     "output_type": "execute_result"
    }
   ],
   "source": [
    "data['Last_transact'] = Last_transact.dt.days\n",
    "data.head()"
   ]
  },
  {
   "cell_type": "code",
   "execution_count": 27,
   "id": "fb546930",
   "metadata": {
    "execution": {
     "iopub.execute_input": "2022-04-23T07:35:09.398238Z",
     "iopub.status.busy": "2022-04-23T07:35:09.397710Z",
     "iopub.status.idle": "2022-04-23T07:35:09.427283Z",
     "shell.execute_reply": "2022-04-23T07:35:09.426622Z"
    },
    "papermill": {
     "duration": 0.0881,
     "end_time": "2022-04-23T07:35:09.429047",
     "exception": false,
     "start_time": "2022-04-23T07:35:09.340947",
     "status": "completed"
    },
    "tags": []
   },
   "outputs": [
    {
     "data": {
      "text/html": [
       "<div>\n",
       "<style scoped>\n",
       "    .dataframe tbody tr th:only-of-type {\n",
       "        vertical-align: middle;\n",
       "    }\n",
       "\n",
       "    .dataframe tbody tr th {\n",
       "        vertical-align: top;\n",
       "    }\n",
       "\n",
       "    .dataframe thead th {\n",
       "        text-align: right;\n",
       "    }\n",
       "</style>\n",
       "<table border=\"1\" class=\"dataframe\">\n",
       "  <thead>\n",
       "    <tr style=\"text-align: right;\">\n",
       "      <th></th>\n",
       "      <th>recency</th>\n",
       "    </tr>\n",
       "    <tr>\n",
       "      <th>CustomerID</th>\n",
       "      <th></th>\n",
       "    </tr>\n",
       "  </thead>\n",
       "  <tbody>\n",
       "    <tr>\n",
       "      <th>12346.0</th>\n",
       "      <td>326</td>\n",
       "    </tr>\n",
       "    <tr>\n",
       "      <th>12347.0</th>\n",
       "      <td>40</td>\n",
       "    </tr>\n",
       "    <tr>\n",
       "      <th>12348.0</th>\n",
       "      <td>76</td>\n",
       "    </tr>\n",
       "    <tr>\n",
       "      <th>12349.0</th>\n",
       "      <td>19</td>\n",
       "    </tr>\n",
       "    <tr>\n",
       "      <th>12350.0</th>\n",
       "      <td>311</td>\n",
       "    </tr>\n",
       "    <tr>\n",
       "      <th>...</th>\n",
       "      <td>...</td>\n",
       "    </tr>\n",
       "    <tr>\n",
       "      <th>18280.0</th>\n",
       "      <td>160</td>\n",
       "    </tr>\n",
       "    <tr>\n",
       "      <th>18281.0</th>\n",
       "      <td>4</td>\n",
       "    </tr>\n",
       "    <tr>\n",
       "      <th>18282.0</th>\n",
       "      <td>93</td>\n",
       "    </tr>\n",
       "    <tr>\n",
       "      <th>18283.0</th>\n",
       "      <td>10</td>\n",
       "    </tr>\n",
       "    <tr>\n",
       "      <th>18287.0</th>\n",
       "      <td>0</td>\n",
       "    </tr>\n",
       "  </tbody>\n",
       "</table>\n",
       "<p>4372 rows × 1 columns</p>\n",
       "</div>"
      ],
      "text/plain": [
       "            recency\n",
       "CustomerID         \n",
       "12346.0         326\n",
       "12347.0          40\n",
       "12348.0          76\n",
       "12349.0          19\n",
       "12350.0         311\n",
       "...             ...\n",
       "18280.0         160\n",
       "18281.0           4\n",
       "18282.0          93\n",
       "18283.0          10\n",
       "18287.0           0\n",
       "\n",
       "[4372 rows x 1 columns]"
      ]
     },
     "execution_count": 27,
     "metadata": {},
     "output_type": "execute_result"
    }
   ],
   "source": [
    "data3 = pd.DataFrame({'recency': data.groupby(by = ['CustomerID'])['Last_transact'].min()})\n",
    "data3"
   ]
  },
  {
   "cell_type": "code",
   "execution_count": 28,
   "id": "d62d0dc3",
   "metadata": {
    "execution": {
     "iopub.execute_input": "2022-04-23T07:35:09.544264Z",
     "iopub.status.busy": "2022-04-23T07:35:09.543700Z",
     "iopub.status.idle": "2022-04-23T07:35:09.833414Z",
     "shell.execute_reply": "2022-04-23T07:35:09.832513Z"
    },
    "papermill": {
     "duration": 0.349637,
     "end_time": "2022-04-23T07:35:09.835800",
     "exception": false,
     "start_time": "2022-04-23T07:35:09.486163",
     "status": "completed"
    },
    "tags": []
   },
   "outputs": [
    {
     "data": {
      "text/plain": [
       "Text(0, 0.5, 'Frequency')"
      ]
     },
     "execution_count": 28,
     "metadata": {},
     "output_type": "execute_result"
    },
    {
     "data": {
      "image/png": "[encoded data removed]",
      "text/plain": [
       "<Figure size 432x288 with 1 Axes>"
      ]
     },
     "metadata": {
      "needs_background": "light"
     },
     "output_type": "display_data"
    }
   ],
   "source": [
    "#Histogram of recency\n",
    "plt.hist(data3['recency'], color = 'green', \n",
    "         bins = np.linspace(data3['recency'].min(), data3['recency'].max(), 50))\n",
    "plt.xlabel('Recency')\n",
    "plt.ylabel('Frequency')"
   ]
  },
  {
   "cell_type": "markdown",
   "id": "1be748de",
   "metadata": {
    "papermill": {
     "duration": 0.057958,
     "end_time": "2022-04-23T07:35:09.952625",
     "exception": false,
     "start_time": "2022-04-23T07:35:09.894667",
     "status": "completed"
    },
    "tags": []
   },
   "source": [
    "### RFM Dataframe for Customers"
   ]
  },
  {
   "cell_type": "code",
   "execution_count": 29,
   "id": "e2f4d24d",
   "metadata": {
    "execution": {
     "iopub.execute_input": "2022-04-23T07:35:10.070444Z",
     "iopub.status.busy": "2022-04-23T07:35:10.070060Z",
     "iopub.status.idle": "2022-04-23T07:35:10.088116Z",
     "shell.execute_reply": "2022-04-23T07:35:10.087483Z"
    },
    "papermill": {
     "duration": 0.080807,
     "end_time": "2022-04-23T07:35:10.090230",
     "exception": false,
     "start_time": "2022-04-23T07:35:10.009423",
     "status": "completed"
    },
    "tags": []
   },
   "outputs": [
    {
     "data": {
      "text/html": [
       "<div>\n",
       "<style scoped>\n",
       "    .dataframe tbody tr th:only-of-type {\n",
       "        vertical-align: middle;\n",
       "    }\n",
       "\n",
       "    .dataframe tbody tr th {\n",
       "        vertical-align: top;\n",
       "    }\n",
       "\n",
       "    .dataframe thead th {\n",
       "        text-align: right;\n",
       "    }\n",
       "</style>\n",
       "<table border=\"1\" class=\"dataframe\">\n",
       "  <thead>\n",
       "    <tr style=\"text-align: right;\">\n",
       "      <th></th>\n",
       "      <th>monetary</th>\n",
       "      <th>freq</th>\n",
       "    </tr>\n",
       "    <tr>\n",
       "      <th>CustomerID</th>\n",
       "      <th></th>\n",
       "      <th></th>\n",
       "    </tr>\n",
       "  </thead>\n",
       "  <tbody>\n",
       "    <tr>\n",
       "      <th>12346.0</th>\n",
       "      <td>0.00</td>\n",
       "      <td>2</td>\n",
       "    </tr>\n",
       "    <tr>\n",
       "      <th>12347.0</th>\n",
       "      <td>4310.00</td>\n",
       "      <td>182</td>\n",
       "    </tr>\n",
       "    <tr>\n",
       "      <th>12348.0</th>\n",
       "      <td>1797.24</td>\n",
       "      <td>31</td>\n",
       "    </tr>\n",
       "    <tr>\n",
       "      <th>12349.0</th>\n",
       "      <td>1757.55</td>\n",
       "      <td>73</td>\n",
       "    </tr>\n",
       "    <tr>\n",
       "      <th>12350.0</th>\n",
       "      <td>334.40</td>\n",
       "      <td>17</td>\n",
       "    </tr>\n",
       "    <tr>\n",
       "      <th>...</th>\n",
       "      <td>...</td>\n",
       "      <td>...</td>\n",
       "    </tr>\n",
       "    <tr>\n",
       "      <th>18280.0</th>\n",
       "      <td>180.60</td>\n",
       "      <td>10</td>\n",
       "    </tr>\n",
       "    <tr>\n",
       "      <th>18281.0</th>\n",
       "      <td>80.82</td>\n",
       "      <td>7</td>\n",
       "    </tr>\n",
       "    <tr>\n",
       "      <th>18282.0</th>\n",
       "      <td>176.60</td>\n",
       "      <td>13</td>\n",
       "    </tr>\n",
       "    <tr>\n",
       "      <th>18283.0</th>\n",
       "      <td>2094.88</td>\n",
       "      <td>756</td>\n",
       "    </tr>\n",
       "    <tr>\n",
       "      <th>18287.0</th>\n",
       "      <td>1837.28</td>\n",
       "      <td>70</td>\n",
       "    </tr>\n",
       "  </tbody>\n",
       "</table>\n",
       "<p>4372 rows × 2 columns</p>\n",
       "</div>"
      ],
      "text/plain": [
       "            monetary  freq\n",
       "CustomerID                \n",
       "12346.0         0.00     2\n",
       "12347.0      4310.00   182\n",
       "12348.0      1797.24    31\n",
       "12349.0      1757.55    73\n",
       "12350.0       334.40    17\n",
       "...              ...   ...\n",
       "18280.0       180.60    10\n",
       "18281.0        80.82     7\n",
       "18282.0       176.60    13\n",
       "18283.0      2094.88   756\n",
       "18287.0      1837.28    70\n",
       "\n",
       "[4372 rows x 2 columns]"
      ]
     },
     "execution_count": 29,
     "metadata": {},
     "output_type": "execute_result"
    }
   ],
   "source": [
    "df = data1.merge(data2, left_index = True, right_index = True)\n",
    "df"
   ]
  },
  {
   "cell_type": "code",
   "execution_count": 30,
   "id": "10f58b48",
   "metadata": {
    "execution": {
     "iopub.execute_input": "2022-04-23T07:35:10.208936Z",
     "iopub.status.busy": "2022-04-23T07:35:10.208398Z",
     "iopub.status.idle": "2022-04-23T07:35:10.222400Z",
     "shell.execute_reply": "2022-04-23T07:35:10.221551Z"
    },
    "papermill": {
     "duration": 0.07551,
     "end_time": "2022-04-23T07:35:10.224309",
     "exception": false,
     "start_time": "2022-04-23T07:35:10.148799",
     "status": "completed"
    },
    "tags": []
   },
   "outputs": [
    {
     "data": {
      "text/html": [
       "<div>\n",
       "<style scoped>\n",
       "    .dataframe tbody tr th:only-of-type {\n",
       "        vertical-align: middle;\n",
       "    }\n",
       "\n",
       "    .dataframe tbody tr th {\n",
       "        vertical-align: top;\n",
       "    }\n",
       "\n",
       "    .dataframe thead th {\n",
       "        text-align: right;\n",
       "    }\n",
       "</style>\n",
       "<table border=\"1\" class=\"dataframe\">\n",
       "  <thead>\n",
       "    <tr style=\"text-align: right;\">\n",
       "      <th></th>\n",
       "      <th>monetary</th>\n",
       "      <th>freq</th>\n",
       "      <th>recency</th>\n",
       "    </tr>\n",
       "    <tr>\n",
       "      <th>CustomerID</th>\n",
       "      <th></th>\n",
       "      <th></th>\n",
       "      <th></th>\n",
       "    </tr>\n",
       "  </thead>\n",
       "  <tbody>\n",
       "    <tr>\n",
       "      <th>12346.0</th>\n",
       "      <td>0.00</td>\n",
       "      <td>2</td>\n",
       "      <td>326</td>\n",
       "    </tr>\n",
       "    <tr>\n",
       "      <th>12347.0</th>\n",
       "      <td>4310.00</td>\n",
       "      <td>182</td>\n",
       "      <td>40</td>\n",
       "    </tr>\n",
       "    <tr>\n",
       "      <th>12348.0</th>\n",
       "      <td>1797.24</td>\n",
       "      <td>31</td>\n",
       "      <td>76</td>\n",
       "    </tr>\n",
       "    <tr>\n",
       "      <th>12349.0</th>\n",
       "      <td>1757.55</td>\n",
       "      <td>73</td>\n",
       "      <td>19</td>\n",
       "    </tr>\n",
       "    <tr>\n",
       "      <th>12350.0</th>\n",
       "      <td>334.40</td>\n",
       "      <td>17</td>\n",
       "      <td>311</td>\n",
       "    </tr>\n",
       "    <tr>\n",
       "      <th>...</th>\n",
       "      <td>...</td>\n",
       "      <td>...</td>\n",
       "      <td>...</td>\n",
       "    </tr>\n",
       "    <tr>\n",
       "      <th>18280.0</th>\n",
       "      <td>180.60</td>\n",
       "      <td>10</td>\n",
       "      <td>160</td>\n",
       "    </tr>\n",
       "    <tr>\n",
       "      <th>18281.0</th>\n",
       "      <td>80.82</td>\n",
       "      <td>7</td>\n",
       "      <td>4</td>\n",
       "    </tr>\n",
       "    <tr>\n",
       "      <th>18282.0</th>\n",
       "      <td>176.60</td>\n",
       "      <td>13</td>\n",
       "      <td>93</td>\n",
       "    </tr>\n",
       "    <tr>\n",
       "      <th>18283.0</th>\n",
       "      <td>2094.88</td>\n",
       "      <td>756</td>\n",
       "      <td>10</td>\n",
       "    </tr>\n",
       "    <tr>\n",
       "      <th>18287.0</th>\n",
       "      <td>1837.28</td>\n",
       "      <td>70</td>\n",
       "      <td>0</td>\n",
       "    </tr>\n",
       "  </tbody>\n",
       "</table>\n",
       "<p>4372 rows × 3 columns</p>\n",
       "</div>"
      ],
      "text/plain": [
       "            monetary  freq  recency\n",
       "CustomerID                         \n",
       "12346.0         0.00     2      326\n",
       "12347.0      4310.00   182       40\n",
       "12348.0      1797.24    31       76\n",
       "12349.0      1757.55    73       19\n",
       "12350.0       334.40    17      311\n",
       "...              ...   ...      ...\n",
       "18280.0       180.60    10      160\n",
       "18281.0        80.82     7        4\n",
       "18282.0       176.60    13       93\n",
       "18283.0      2094.88   756       10\n",
       "18287.0      1837.28    70        0\n",
       "\n",
       "[4372 rows x 3 columns]"
      ]
     },
     "execution_count": 30,
     "metadata": {},
     "output_type": "execute_result"
    }
   ],
   "source": [
    "rfm_customer = df.merge(data3, left_index = True, right_index = True)\n",
    "rfm_customer"
   ]
  },
  {
   "cell_type": "code",
   "execution_count": 31,
   "id": "77d87171",
   "metadata": {
    "execution": {
     "iopub.execute_input": "2022-04-23T07:35:10.344778Z",
     "iopub.status.busy": "2022-04-23T07:35:10.344144Z",
     "iopub.status.idle": "2022-04-23T07:35:10.580574Z",
     "shell.execute_reply": "2022-04-23T07:35:10.579578Z"
    },
    "papermill": {
     "duration": 0.299821,
     "end_time": "2022-04-23T07:35:10.582863",
     "exception": false,
     "start_time": "2022-04-23T07:35:10.283042",
     "status": "completed"
    },
    "tags": []
   },
   "outputs": [
    {
     "data": {
      "text/plain": [
       "<matplotlib.collections.PathCollection at 0x7fd521b12310>"
      ]
     },
     "execution_count": 31,
     "metadata": {},
     "output_type": "execute_result"
    },
    {
     "data": {
      "image/png": "[encoded data removed]",
      "text/plain": [
       "<Figure size 432x288 with 1 Axes>"
      ]
     },
     "metadata": {
      "needs_background": "light"
     },
     "output_type": "display_data"
    }
   ],
   "source": [
    "plt.scatter(x = rfm_customer['freq'], y = rfm_customer['recency'], alpha = 0.3)"
   ]
  },
  {
   "cell_type": "code",
   "execution_count": 32,
   "id": "4af75f7d",
   "metadata": {
    "execution": {
     "iopub.execute_input": "2022-04-23T07:35:10.707125Z",
     "iopub.status.busy": "2022-04-23T07:35:10.706563Z",
     "iopub.status.idle": "2022-04-23T07:35:10.926822Z",
     "shell.execute_reply": "2022-04-23T07:35:10.926256Z"
    },
    "papermill": {
     "duration": 0.285163,
     "end_time": "2022-04-23T07:35:10.928735",
     "exception": false,
     "start_time": "2022-04-23T07:35:10.643572",
     "status": "completed"
    },
    "tags": []
   },
   "outputs": [
    {
     "data": {
      "text/plain": [
       "<matplotlib.collections.PathCollection at 0x7fd521aae450>"
      ]
     },
     "execution_count": 32,
     "metadata": {},
     "output_type": "execute_result"
    },
    {
     "data": {
      "image/png": "[encoded data removed]",
      "text/plain": [
       "<Figure size 432x288 with 1 Axes>"
      ]
     },
     "metadata": {
      "needs_background": "light"
     },
     "output_type": "display_data"
    }
   ],
   "source": [
    "plt.scatter(x = rfm_customer['freq'], y = rfm_customer['monetary'], alpha = 0.3)"
   ]
  },
  {
   "cell_type": "code",
   "execution_count": 33,
   "id": "fdc1b451",
   "metadata": {
    "execution": {
     "iopub.execute_input": "2022-04-23T07:35:11.054187Z",
     "iopub.status.busy": "2022-04-23T07:35:11.053727Z",
     "iopub.status.idle": "2022-04-23T07:35:11.065874Z",
     "shell.execute_reply": "2022-04-23T07:35:11.064968Z"
    },
    "papermill": {
     "duration": 0.075182,
     "end_time": "2022-04-23T07:35:11.067869",
     "exception": false,
     "start_time": "2022-04-23T07:35:10.992687",
     "status": "completed"
    },
    "tags": []
   },
   "outputs": [
    {
     "data": {
      "text/html": [
       "<div>\n",
       "<style scoped>\n",
       "    .dataframe tbody tr th:only-of-type {\n",
       "        vertical-align: middle;\n",
       "    }\n",
       "\n",
       "    .dataframe tbody tr th {\n",
       "        vertical-align: top;\n",
       "    }\n",
       "\n",
       "    .dataframe thead th {\n",
       "        text-align: right;\n",
       "    }\n",
       "</style>\n",
       "<table border=\"1\" class=\"dataframe\">\n",
       "  <thead>\n",
       "    <tr style=\"text-align: right;\">\n",
       "      <th></th>\n",
       "      <th>freq</th>\n",
       "      <th>monetary</th>\n",
       "    </tr>\n",
       "  </thead>\n",
       "  <tbody>\n",
       "    <tr>\n",
       "      <th>freq</th>\n",
       "      <td>1.000000</td>\n",
       "      <td>0.446622</td>\n",
       "    </tr>\n",
       "    <tr>\n",
       "      <th>monetary</th>\n",
       "      <td>0.446622</td>\n",
       "      <td>1.000000</td>\n",
       "    </tr>\n",
       "  </tbody>\n",
       "</table>\n",
       "</div>"
      ],
      "text/plain": [
       "              freq  monetary\n",
       "freq      1.000000  0.446622\n",
       "monetary  0.446622  1.000000"
      ]
     },
     "execution_count": 33,
     "metadata": {},
     "output_type": "execute_result"
    }
   ],
   "source": [
    "rfm_customer[['freq', 'monetary']].corr(method = 'pearson')"
   ]
  },
  {
   "cell_type": "code",
   "execution_count": 34,
   "id": "dab54eaf",
   "metadata": {
    "execution": {
     "iopub.execute_input": "2022-04-23T07:35:11.190560Z",
     "iopub.status.busy": "2022-04-23T07:35:11.190267Z",
     "iopub.status.idle": "2022-04-23T07:35:11.341741Z",
     "shell.execute_reply": "2022-04-23T07:35:11.340468Z"
    },
    "papermill": {
     "duration": 0.216406,
     "end_time": "2022-04-23T07:35:11.344123",
     "exception": false,
     "start_time": "2022-04-23T07:35:11.127717",
     "status": "completed"
    },
    "tags": []
   },
   "outputs": [],
   "source": [
    "#Scale features\n",
    "from sklearn.preprocessing import StandardScaler"
   ]
  },
  {
   "cell_type": "code",
   "execution_count": 35,
   "id": "4c2d14d0",
   "metadata": {
    "execution": {
     "iopub.execute_input": "2022-04-23T07:35:11.502362Z",
     "iopub.status.busy": "2022-04-23T07:35:11.501900Z",
     "iopub.status.idle": "2022-04-23T07:35:11.512006Z",
     "shell.execute_reply": "2022-04-23T07:35:11.511159Z"
    },
    "papermill": {
     "duration": 0.076338,
     "end_time": "2022-04-23T07:35:11.513916",
     "exception": false,
     "start_time": "2022-04-23T07:35:11.437578",
     "status": "completed"
    },
    "tags": []
   },
   "outputs": [
    {
     "data": {
      "text/plain": [
       "array([[-0.23100099, -0.3917197 ,  1.97520461],\n",
       "       [ 0.29343167,  0.38265697, -0.53535955],\n",
       "       [-0.01231622, -0.26695902, -0.21934448],\n",
       "       ...,\n",
       "       [-0.20951263, -0.34439668, -0.07011514],\n",
       "       [ 0.02390005,  2.85205812, -0.79870544],\n",
       "       [-0.00744423, -0.0991774 , -0.8864874 ]])"
      ]
     },
     "execution_count": 35,
     "metadata": {},
     "output_type": "execute_result"
    }
   ],
   "source": [
    "scaled_data = StandardScaler().fit_transform(rfm_customer)\n",
    "scaled_data"
   ]
  },
  {
   "cell_type": "code",
   "execution_count": 36,
   "id": "970bc357",
   "metadata": {
    "execution": {
     "iopub.execute_input": "2022-04-23T07:35:11.639760Z",
     "iopub.status.busy": "2022-04-23T07:35:11.639469Z",
     "iopub.status.idle": "2022-04-23T07:35:11.653683Z",
     "shell.execute_reply": "2022-04-23T07:35:11.652766Z"
    },
    "papermill": {
     "duration": 0.079603,
     "end_time": "2022-04-23T07:35:11.655716",
     "exception": false,
     "start_time": "2022-04-23T07:35:11.576113",
     "status": "completed"
    },
    "tags": []
   },
   "outputs": [
    {
     "data": {
      "text/html": [
       "<div>\n",
       "<style scoped>\n",
       "    .dataframe tbody tr th:only-of-type {\n",
       "        vertical-align: middle;\n",
       "    }\n",
       "\n",
       "    .dataframe tbody tr th {\n",
       "        vertical-align: top;\n",
       "    }\n",
       "\n",
       "    .dataframe thead th {\n",
       "        text-align: right;\n",
       "    }\n",
       "</style>\n",
       "<table border=\"1\" class=\"dataframe\">\n",
       "  <thead>\n",
       "    <tr style=\"text-align: right;\">\n",
       "      <th></th>\n",
       "      <th>monetary</th>\n",
       "      <th>freq</th>\n",
       "      <th>recency</th>\n",
       "    </tr>\n",
       "    <tr>\n",
       "      <th>CustomerID</th>\n",
       "      <th></th>\n",
       "      <th></th>\n",
       "      <th></th>\n",
       "    </tr>\n",
       "  </thead>\n",
       "  <tbody>\n",
       "    <tr>\n",
       "      <th>12346.0</th>\n",
       "      <td>-0.231001</td>\n",
       "      <td>-0.391720</td>\n",
       "      <td>1.975205</td>\n",
       "    </tr>\n",
       "    <tr>\n",
       "      <th>12347.0</th>\n",
       "      <td>0.293432</td>\n",
       "      <td>0.382657</td>\n",
       "      <td>-0.535360</td>\n",
       "    </tr>\n",
       "    <tr>\n",
       "      <th>12348.0</th>\n",
       "      <td>-0.012316</td>\n",
       "      <td>-0.266959</td>\n",
       "      <td>-0.219344</td>\n",
       "    </tr>\n",
       "    <tr>\n",
       "      <th>12349.0</th>\n",
       "      <td>-0.017146</td>\n",
       "      <td>-0.086271</td>\n",
       "      <td>-0.719702</td>\n",
       "    </tr>\n",
       "    <tr>\n",
       "      <th>12350.0</th>\n",
       "      <td>-0.190312</td>\n",
       "      <td>-0.327188</td>\n",
       "      <td>1.843532</td>\n",
       "    </tr>\n",
       "    <tr>\n",
       "      <th>...</th>\n",
       "      <td>...</td>\n",
       "      <td>...</td>\n",
       "      <td>...</td>\n",
       "    </tr>\n",
       "    <tr>\n",
       "      <th>18280.0</th>\n",
       "      <td>-0.209026</td>\n",
       "      <td>-0.357303</td>\n",
       "      <td>0.518024</td>\n",
       "    </tr>\n",
       "    <tr>\n",
       "      <th>18281.0</th>\n",
       "      <td>-0.221167</td>\n",
       "      <td>-0.370209</td>\n",
       "      <td>-0.851375</td>\n",
       "    </tr>\n",
       "    <tr>\n",
       "      <th>18282.0</th>\n",
       "      <td>-0.209513</td>\n",
       "      <td>-0.344397</td>\n",
       "      <td>-0.070115</td>\n",
       "    </tr>\n",
       "    <tr>\n",
       "      <th>18283.0</th>\n",
       "      <td>0.023900</td>\n",
       "      <td>2.852058</td>\n",
       "      <td>-0.798705</td>\n",
       "    </tr>\n",
       "    <tr>\n",
       "      <th>18287.0</th>\n",
       "      <td>-0.007444</td>\n",
       "      <td>-0.099177</td>\n",
       "      <td>-0.886487</td>\n",
       "    </tr>\n",
       "  </tbody>\n",
       "</table>\n",
       "<p>4372 rows × 3 columns</p>\n",
       "</div>"
      ],
      "text/plain": [
       "            monetary      freq   recency\n",
       "CustomerID                              \n",
       "12346.0    -0.231001 -0.391720  1.975205\n",
       "12347.0     0.293432  0.382657 -0.535360\n",
       "12348.0    -0.012316 -0.266959 -0.219344\n",
       "12349.0    -0.017146 -0.086271 -0.719702\n",
       "12350.0    -0.190312 -0.327188  1.843532\n",
       "...              ...       ...       ...\n",
       "18280.0    -0.209026 -0.357303  0.518024\n",
       "18281.0    -0.221167 -0.370209 -0.851375\n",
       "18282.0    -0.209513 -0.344397 -0.070115\n",
       "18283.0     0.023900  2.852058 -0.798705\n",
       "18287.0    -0.007444 -0.099177 -0.886487\n",
       "\n",
       "[4372 rows x 3 columns]"
      ]
     },
     "execution_count": 36,
     "metadata": {},
     "output_type": "execute_result"
    }
   ],
   "source": [
    "scaled_data = pd.DataFrame(scaled_data, \n",
    "                           columns = rfm_customer.columns, \n",
    "                           index = rfm_customer.index)\n",
    "\n",
    "scaled_data"
   ]
  },
  {
   "cell_type": "markdown",
   "id": "9da2bea8",
   "metadata": {
    "papermill": {
     "duration": 0.063788,
     "end_time": "2022-04-23T07:35:11.780581",
     "exception": false,
     "start_time": "2022-04-23T07:35:11.716793",
     "status": "completed"
    },
    "tags": []
   },
   "source": [
    "## Clustering"
   ]
  },
  {
   "cell_type": "markdown",
   "id": "deb533c4",
   "metadata": {
    "papermill": {
     "duration": 0.060848,
     "end_time": "2022-04-23T07:35:11.906294",
     "exception": false,
     "start_time": "2022-04-23T07:35:11.845446",
     "status": "completed"
    },
    "tags": []
   },
   "source": [
    "### K-means ++ "
   ]
  },
  {
   "cell_type": "markdown",
   "id": "d5f48eed",
   "metadata": {
    "papermill": {
     "duration": 0.061835,
     "end_time": "2022-04-23T07:35:12.030471",
     "exception": false,
     "start_time": "2022-04-23T07:35:11.968636",
     "status": "completed"
    },
    "tags": []
   },
   "source": [
    "#n_init: sets the number of initializations to perform. \n",
    "\n",
    "#The default behavior for the scikit-learn algorithm is to perform ten k-means runs and return the results of the one with the lowest SSE."
   ]
  },
  {
   "cell_type": "code",
   "execution_count": 37,
   "id": "f8783f70",
   "metadata": {
    "execution": {
     "iopub.execute_input": "2022-04-23T07:35:12.155434Z",
     "iopub.status.busy": "2022-04-23T07:35:12.154917Z",
     "iopub.status.idle": "2022-04-23T07:35:14.563934Z",
     "shell.execute_reply": "2022-04-23T07:35:14.563267Z"
    },
    "papermill": {
     "duration": 2.473333,
     "end_time": "2022-04-23T07:35:14.566171",
     "exception": false,
     "start_time": "2022-04-23T07:35:12.092838",
     "status": "completed"
    },
    "tags": []
   },
   "outputs": [],
   "source": [
    "\n",
    "from sklearn.cluster import KMeans\n",
    "seg_km1 = KMeans(n_clusters = 7, init = 'k-means++', random_state = 1000, n_init = 15).fit(scaled_data)"
   ]
  },
  {
   "cell_type": "code",
   "execution_count": 38,
   "id": "cbb83930",
   "metadata": {
    "execution": {
     "iopub.execute_input": "2022-04-23T07:35:14.690424Z",
     "iopub.status.busy": "2022-04-23T07:35:14.689764Z",
     "iopub.status.idle": "2022-04-23T07:35:14.874298Z",
     "shell.execute_reply": "2022-04-23T07:35:14.872947Z"
    },
    "papermill": {
     "duration": 0.248816,
     "end_time": "2022-04-23T07:35:14.876749",
     "exception": false,
     "start_time": "2022-04-23T07:35:14.627933",
     "status": "completed"
    },
    "tags": []
   },
   "outputs": [
    {
     "data": {
      "text/html": [
       "<div>\n",
       "<style scoped>\n",
       "    .dataframe tbody tr th:only-of-type {\n",
       "        vertical-align: middle;\n",
       "    }\n",
       "\n",
       "    .dataframe tbody tr th {\n",
       "        vertical-align: top;\n",
       "    }\n",
       "\n",
       "    .dataframe thead th {\n",
       "        text-align: right;\n",
       "    }\n",
       "</style>\n",
       "<table border=\"1\" class=\"dataframe\">\n",
       "  <thead>\n",
       "    <tr style=\"text-align: right;\">\n",
       "      <th></th>\n",
       "      <th>monetary</th>\n",
       "      <th>freq</th>\n",
       "      <th>recency</th>\n",
       "      <th>seg_km1</th>\n",
       "    </tr>\n",
       "    <tr>\n",
       "      <th>CustomerID</th>\n",
       "      <th></th>\n",
       "      <th></th>\n",
       "      <th></th>\n",
       "      <th></th>\n",
       "    </tr>\n",
       "  </thead>\n",
       "  <tbody>\n",
       "    <tr>\n",
       "      <th>12346.0</th>\n",
       "      <td>0.00</td>\n",
       "      <td>2</td>\n",
       "      <td>326</td>\n",
       "      <td>1</td>\n",
       "    </tr>\n",
       "    <tr>\n",
       "      <th>12347.0</th>\n",
       "      <td>4310.00</td>\n",
       "      <td>182</td>\n",
       "      <td>40</td>\n",
       "      <td>0</td>\n",
       "    </tr>\n",
       "    <tr>\n",
       "      <th>12348.0</th>\n",
       "      <td>1797.24</td>\n",
       "      <td>31</td>\n",
       "      <td>76</td>\n",
       "      <td>0</td>\n",
       "    </tr>\n",
       "    <tr>\n",
       "      <th>12349.0</th>\n",
       "      <td>1757.55</td>\n",
       "      <td>73</td>\n",
       "      <td>19</td>\n",
       "      <td>0</td>\n",
       "    </tr>\n",
       "    <tr>\n",
       "      <th>12350.0</th>\n",
       "      <td>334.40</td>\n",
       "      <td>17</td>\n",
       "      <td>311</td>\n",
       "      <td>1</td>\n",
       "    </tr>\n",
       "    <tr>\n",
       "      <th>...</th>\n",
       "      <td>...</td>\n",
       "      <td>...</td>\n",
       "      <td>...</td>\n",
       "      <td>...</td>\n",
       "    </tr>\n",
       "    <tr>\n",
       "      <th>18280.0</th>\n",
       "      <td>180.60</td>\n",
       "      <td>10</td>\n",
       "      <td>160</td>\n",
       "      <td>1</td>\n",
       "    </tr>\n",
       "    <tr>\n",
       "      <th>18281.0</th>\n",
       "      <td>80.82</td>\n",
       "      <td>7</td>\n",
       "      <td>4</td>\n",
       "      <td>0</td>\n",
       "    </tr>\n",
       "    <tr>\n",
       "      <th>18282.0</th>\n",
       "      <td>176.60</td>\n",
       "      <td>13</td>\n",
       "      <td>93</td>\n",
       "      <td>0</td>\n",
       "    </tr>\n",
       "    <tr>\n",
       "      <th>18283.0</th>\n",
       "      <td>2094.88</td>\n",
       "      <td>756</td>\n",
       "      <td>10</td>\n",
       "      <td>4</td>\n",
       "    </tr>\n",
       "    <tr>\n",
       "      <th>18287.0</th>\n",
       "      <td>1837.28</td>\n",
       "      <td>70</td>\n",
       "      <td>0</td>\n",
       "      <td>0</td>\n",
       "    </tr>\n",
       "  </tbody>\n",
       "</table>\n",
       "<p>4372 rows × 4 columns</p>\n",
       "</div>"
      ],
      "text/plain": [
       "            monetary  freq  recency  seg_km1\n",
       "CustomerID                                  \n",
       "12346.0         0.00     2      326        1\n",
       "12347.0      4310.00   182       40        0\n",
       "12348.0      1797.24    31       76        0\n",
       "12349.0      1757.55    73       19        0\n",
       "12350.0       334.40    17      311        1\n",
       "...              ...   ...      ...      ...\n",
       "18280.0       180.60    10      160        1\n",
       "18281.0        80.82     7        4        0\n",
       "18282.0       176.60    13       93        0\n",
       "18283.0      2094.88   756       10        4\n",
       "18287.0      1837.28    70        0        0\n",
       "\n",
       "[4372 rows x 4 columns]"
      ]
     },
     "execution_count": 38,
     "metadata": {},
     "output_type": "execute_result"
    }
   ],
   "source": [
    "rfm_customer['seg_km1'] = seg_km1.predict(scaled_data)\n",
    "rfm_customer"
   ]
  },
  {
   "cell_type": "code",
   "execution_count": 39,
   "id": "385481df",
   "metadata": {
    "execution": {
     "iopub.execute_input": "2022-04-23T07:35:15.005499Z",
     "iopub.status.busy": "2022-04-23T07:35:15.005070Z",
     "iopub.status.idle": "2022-04-23T07:35:15.022010Z",
     "shell.execute_reply": "2022-04-23T07:35:15.021283Z"
    },
    "papermill": {
     "duration": 0.08267,
     "end_time": "2022-04-23T07:35:15.024219",
     "exception": false,
     "start_time": "2022-04-23T07:35:14.941549",
     "status": "completed"
    },
    "tags": []
   },
   "outputs": [
    {
     "data": {
      "text/html": [
       "<div>\n",
       "<style scoped>\n",
       "    .dataframe tbody tr th:only-of-type {\n",
       "        vertical-align: middle;\n",
       "    }\n",
       "\n",
       "    .dataframe tbody tr th {\n",
       "        vertical-align: top;\n",
       "    }\n",
       "\n",
       "    .dataframe thead th {\n",
       "        text-align: right;\n",
       "    }\n",
       "</style>\n",
       "<table border=\"1\" class=\"dataframe\">\n",
       "  <thead>\n",
       "    <tr style=\"text-align: right;\">\n",
       "      <th></th>\n",
       "      <th>freq</th>\n",
       "      <th>recency</th>\n",
       "      <th>monetary</th>\n",
       "    </tr>\n",
       "    <tr>\n",
       "      <th>seg_km1</th>\n",
       "      <th></th>\n",
       "      <th></th>\n",
       "      <th></th>\n",
       "    </tr>\n",
       "  </thead>\n",
       "  <tbody>\n",
       "    <tr>\n",
       "      <th>0</th>\n",
       "      <td>68.043371</td>\n",
       "      <td>46.669252</td>\n",
       "      <td>1248.371070</td>\n",
       "    </tr>\n",
       "    <tr>\n",
       "      <th>1</th>\n",
       "      <td>31.548329</td>\n",
       "      <td>230.555556</td>\n",
       "      <td>472.417561</td>\n",
       "    </tr>\n",
       "    <tr>\n",
       "      <th>2</th>\n",
       "      <td>5914.000000</td>\n",
       "      <td>4.250000</td>\n",
       "      <td>64776.602500</td>\n",
       "    </tr>\n",
       "    <tr>\n",
       "      <th>3</th>\n",
       "      <td>956.333333</td>\n",
       "      <td>5.666667</td>\n",
       "      <td>241136.560000</td>\n",
       "    </tr>\n",
       "    <tr>\n",
       "      <th>4</th>\n",
       "      <td>424.338415</td>\n",
       "      <td>20.737805</td>\n",
       "      <td>7178.989024</td>\n",
       "    </tr>\n",
       "    <tr>\n",
       "      <th>5</th>\n",
       "      <td>894.461538</td>\n",
       "      <td>16.769231</td>\n",
       "      <td>67819.939231</td>\n",
       "    </tr>\n",
       "    <tr>\n",
       "      <th>6</th>\n",
       "      <td>19.728395</td>\n",
       "      <td>578.814815</td>\n",
       "      <td>220.191605</td>\n",
       "    </tr>\n",
       "  </tbody>\n",
       "</table>\n",
       "</div>"
      ],
      "text/plain": [
       "                freq     recency       monetary\n",
       "seg_km1                                        \n",
       "0          68.043371   46.669252    1248.371070\n",
       "1          31.548329  230.555556     472.417561\n",
       "2        5914.000000    4.250000   64776.602500\n",
       "3         956.333333    5.666667  241136.560000\n",
       "4         424.338415   20.737805    7178.989024\n",
       "5         894.461538   16.769231   67819.939231\n",
       "6          19.728395  578.814815     220.191605"
      ]
     },
     "execution_count": 39,
     "metadata": {},
     "output_type": "execute_result"
    }
   ],
   "source": [
    "#Results\n",
    "rfm_customer.groupby(['seg_km1'])[['freq', 'recency', 'monetary']].mean()"
   ]
  },
  {
   "cell_type": "code",
   "execution_count": 40,
   "id": "6344ebed",
   "metadata": {
    "execution": {
     "iopub.execute_input": "2022-04-23T07:35:15.156443Z",
     "iopub.status.busy": "2022-04-23T07:35:15.156118Z",
     "iopub.status.idle": "2022-04-23T07:35:15.524864Z",
     "shell.execute_reply": "2022-04-23T07:35:15.524037Z"
    },
    "papermill": {
     "duration": 0.43639,
     "end_time": "2022-04-23T07:35:15.527281",
     "exception": false,
     "start_time": "2022-04-23T07:35:15.090891",
     "status": "completed"
    },
    "tags": []
   },
   "outputs": [
    {
     "data": {
      "text/plain": [
       "Text(0, 0.5, 'recency')"
      ]
     },
     "execution_count": 40,
     "metadata": {},
     "output_type": "execute_result"
    },
    {
     "data": {
      "image/png": "[encoded data removed]",
      "text/plain": [
       "<Figure size 432x288 with 1 Axes>"
      ]
     },
     "metadata": {
      "needs_background": "light"
     },
     "output_type": "display_data"
    }
   ],
   "source": [
    "#Scatter Plot \n",
    "plt.scatter(x = rfm_customer['freq'], y = rfm_customer['recency'], \n",
    "            c = rfm_customer['seg_km1'], alpha = 0.3)\n",
    "plt.xlabel('freq')\n",
    "plt.ylabel('recency')"
   ]
  },
  {
   "cell_type": "code",
   "execution_count": 41,
   "id": "6964523b",
   "metadata": {
    "execution": {
     "iopub.execute_input": "2022-04-23T07:35:15.656415Z",
     "iopub.status.busy": "2022-04-23T07:35:15.655825Z",
     "iopub.status.idle": "2022-04-23T07:35:15.664678Z",
     "shell.execute_reply": "2022-04-23T07:35:15.663723Z"
    },
    "papermill": {
     "duration": 0.075705,
     "end_time": "2022-04-23T07:35:15.666877",
     "exception": false,
     "start_time": "2022-04-23T07:35:15.591172",
     "status": "completed"
    },
    "tags": []
   },
   "outputs": [
    {
     "data": {
      "text/plain": [
       "0    2836\n",
       "1    1107\n",
       "4     328\n",
       "6      81\n",
       "5      13\n",
       "2       4\n",
       "3       3\n",
       "Name: seg_km1, dtype: int64"
      ]
     },
     "execution_count": 41,
     "metadata": {},
     "output_type": "execute_result"
    }
   ],
   "source": [
    "rfm_customer['seg_km1'].value_counts()"
   ]
  },
  {
   "cell_type": "markdown",
   "id": "42f2a373",
   "metadata": {
    "papermill": {
     "duration": 0.06347,
     "end_time": "2022-04-23T07:35:15.796026",
     "exception": false,
     "start_time": "2022-04-23T07:35:15.732556",
     "status": "completed"
    },
    "tags": []
   },
   "source": [
    "## Optimal Number of Clusters:"
   ]
  },
  {
   "cell_type": "markdown",
   "id": "c5f090a1",
   "metadata": {
    "papermill": {
     "duration": 0.063347,
     "end_time": "2022-04-23T07:35:15.923958",
     "exception": false,
     "start_time": "2022-04-23T07:35:15.860611",
     "status": "completed"
    },
    "tags": []
   },
   "source": [
    "### a: The Elbow Method "
   ]
  },
  {
   "cell_type": "code",
   "execution_count": 42,
   "id": "dbb36f77",
   "metadata": {
    "execution": {
     "iopub.execute_input": "2022-04-23T07:35:16.058353Z",
     "iopub.status.busy": "2022-04-23T07:35:16.057695Z",
     "iopub.status.idle": "2022-04-23T07:35:28.671650Z",
     "shell.execute_reply": "2022-04-23T07:35:28.670975Z"
    },
    "papermill": {
     "duration": 12.682976,
     "end_time": "2022-04-23T07:35:28.673863",
     "exception": false,
     "start_time": "2022-04-23T07:35:15.990887",
     "status": "completed"
    },
    "tags": []
   },
   "outputs": [],
   "source": [
    "sse = []\n",
    "for k in range(1, 11):\n",
    "    kmeans = KMeans(n_clusters = k, init = 'k-means++', random_state = 1234, n_init = 10)\n",
    "    kmeans.fit(scaled_data)\n",
    "    sse.append(kmeans.inertia_)"
   ]
  },
  {
   "cell_type": "code",
   "execution_count": 43,
   "id": "53cc79d6",
   "metadata": {
    "execution": {
     "iopub.execute_input": "2022-04-23T07:35:28.802925Z",
     "iopub.status.busy": "2022-04-23T07:35:28.801979Z",
     "iopub.status.idle": "2022-04-23T07:35:28.985291Z",
     "shell.execute_reply": "2022-04-23T07:35:28.984057Z"
    },
    "papermill": {
     "duration": 0.250398,
     "end_time": "2022-04-23T07:35:28.988470",
     "exception": false,
     "start_time": "2022-04-23T07:35:28.738072",
     "status": "completed"
    },
    "tags": []
   },
   "outputs": [
    {
     "data": {
      "image/png": "[encoded data removed]",
      "text/plain": [
       "<Figure size 432x288 with 1 Axes>"
      ]
     },
     "metadata": {
      "needs_background": "light"
     },
     "output_type": "display_data"
    }
   ],
   "source": [
    "plt.plot(range(1, 11), sse, 'ro-')\n",
    "plt.xticks(range(1, 11))\n",
    "plt.xlabel(\"Number of Clusters\")\n",
    "plt.ylabel(\"SSE\")\n",
    "plt.show()"
   ]
  },
  {
   "cell_type": "markdown",
   "id": "d8a8ae33",
   "metadata": {
    "papermill": {
     "duration": 0.072287,
     "end_time": "2022-04-23T07:35:29.137992",
     "exception": false,
     "start_time": "2022-04-23T07:35:29.065705",
     "status": "completed"
    },
    "tags": []
   },
   "source": [
    "It seems that k=3 or k=4 is the optimal number of clusters.\n",
    "But we will do silhouette analysis and see if elbow method and silhouette give same optimal values for k or not."
   ]
  },
  {
   "cell_type": "markdown",
   "id": "5e312982",
   "metadata": {
    "papermill": {
     "duration": 0.080358,
     "end_time": "2022-04-23T07:35:29.290944",
     "exception": false,
     "start_time": "2022-04-23T07:35:29.210586",
     "status": "completed"
    },
    "tags": []
   },
   "source": [
    "### b: Silhouette Coefficient"
   ]
  },
  {
   "cell_type": "code",
   "execution_count": 44,
   "id": "77fe921e",
   "metadata": {
    "execution": {
     "iopub.execute_input": "2022-04-23T07:35:29.428442Z",
     "iopub.status.busy": "2022-04-23T07:35:29.427441Z",
     "iopub.status.idle": "2022-04-23T07:35:29.431884Z",
     "shell.execute_reply": "2022-04-23T07:35:29.431037Z"
    },
    "papermill": {
     "duration": 0.075542,
     "end_time": "2022-04-23T07:35:29.434323",
     "exception": false,
     "start_time": "2022-04-23T07:35:29.358781",
     "status": "completed"
    },
    "tags": []
   },
   "outputs": [],
   "source": [
    "from sklearn.metrics import silhouette_score"
   ]
  },
  {
   "cell_type": "code",
   "execution_count": 45,
   "id": "344e1953",
   "metadata": {
    "execution": {
     "iopub.execute_input": "2022-04-23T07:35:29.573302Z",
     "iopub.status.busy": "2022-04-23T07:35:29.572982Z",
     "iopub.status.idle": "2022-04-23T07:35:44.389413Z",
     "shell.execute_reply": "2022-04-23T07:35:44.388315Z"
    },
    "papermill": {
     "duration": 14.886803,
     "end_time": "2022-04-23T07:35:44.392596",
     "exception": false,
     "start_time": "2022-04-23T07:35:29.505793",
     "status": "completed"
    },
    "tags": []
   },
   "outputs": [],
   "source": [
    "silhouette_coefficients = []\n",
    "for k in range(2, 11):\n",
    "    kmeans = KMeans(n_clusters = k, init = 'k-means++', random_state = 1234, n_init = 10)\n",
    "    kmeans.fit(scaled_data)\n",
    "    score = silhouette_score(scaled_data, kmeans.labels_)\n",
    "    silhouette_coefficients.append(score)"
   ]
  },
  {
   "cell_type": "code",
   "execution_count": 46,
   "id": "94d1cb27",
   "metadata": {
    "execution": {
     "iopub.execute_input": "2022-04-23T07:35:44.537806Z",
     "iopub.status.busy": "2022-04-23T07:35:44.537531Z",
     "iopub.status.idle": "2022-04-23T07:35:44.725107Z",
     "shell.execute_reply": "2022-04-23T07:35:44.723507Z"
    },
    "papermill": {
     "duration": 0.257208,
     "end_time": "2022-04-23T07:35:44.727370",
     "exception": false,
     "start_time": "2022-04-23T07:35:44.470162",
     "status": "completed"
    },
    "tags": []
   },
   "outputs": [
    {
     "data": {
      "image/png": "[encoded data removed]",
      "text/plain": [
       "<Figure size 432x288 with 1 Axes>"
      ]
     },
     "metadata": {
      "needs_background": "light"
     },
     "output_type": "display_data"
    }
   ],
   "source": [
    "plt.plot(range(2, 11), silhouette_coefficients)\n",
    "plt.xticks(range(2, 11))\n",
    "plt.xlabel(\"Number of Clusters\")\n",
    "plt.ylabel(\"Silhouette Coefficient\")\n",
    "plt.show()"
   ]
  },
  {
   "cell_type": "code",
   "execution_count": 47,
   "id": "105d44c8",
   "metadata": {
    "execution": {
     "iopub.execute_input": "2022-04-23T07:35:44.862969Z",
     "iopub.status.busy": "2022-04-23T07:35:44.862139Z",
     "iopub.status.idle": "2022-04-23T07:35:46.194494Z",
     "shell.execute_reply": "2022-04-23T07:35:46.193607Z"
    },
    "papermill": {
     "duration": 1.402729,
     "end_time": "2022-04-23T07:35:46.196911",
     "exception": false,
     "start_time": "2022-04-23T07:35:44.794182",
     "status": "completed"
    },
    "tags": []
   },
   "outputs": [],
   "source": [
    "# k means using 3 clusters and k-means++ initialization\n",
    "#Second Try\n",
    "from sklearn.cluster import KMeans\n",
    "seg_km2 = KMeans(n_clusters = 3, init = 'k-means++', random_state = 1234, n_init = 10).fit(scaled_data)"
   ]
  },
  {
   "cell_type": "code",
   "execution_count": 48,
   "id": "0ff41980",
   "metadata": {
    "execution": {
     "iopub.execute_input": "2022-04-23T07:35:46.328398Z",
     "iopub.status.busy": "2022-04-23T07:35:46.327747Z",
     "iopub.status.idle": "2022-04-23T07:35:46.348876Z",
     "shell.execute_reply": "2022-04-23T07:35:46.348270Z"
    },
    "papermill": {
     "duration": 0.088606,
     "end_time": "2022-04-23T07:35:46.350696",
     "exception": false,
     "start_time": "2022-04-23T07:35:46.262090",
     "status": "completed"
    },
    "tags": []
   },
   "outputs": [
    {
     "data": {
      "text/html": [
       "<div>\n",
       "<style scoped>\n",
       "    .dataframe tbody tr th:only-of-type {\n",
       "        vertical-align: middle;\n",
       "    }\n",
       "\n",
       "    .dataframe tbody tr th {\n",
       "        vertical-align: top;\n",
       "    }\n",
       "\n",
       "    .dataframe thead th {\n",
       "        text-align: right;\n",
       "    }\n",
       "</style>\n",
       "<table border=\"1\" class=\"dataframe\">\n",
       "  <thead>\n",
       "    <tr style=\"text-align: right;\">\n",
       "      <th></th>\n",
       "      <th>monetary</th>\n",
       "      <th>freq</th>\n",
       "      <th>recency</th>\n",
       "      <th>seg_km1</th>\n",
       "      <th>seg_pred</th>\n",
       "    </tr>\n",
       "    <tr>\n",
       "      <th>CustomerID</th>\n",
       "      <th></th>\n",
       "      <th></th>\n",
       "      <th></th>\n",
       "      <th></th>\n",
       "      <th></th>\n",
       "    </tr>\n",
       "  </thead>\n",
       "  <tbody>\n",
       "    <tr>\n",
       "      <th>12346.0</th>\n",
       "      <td>0.00</td>\n",
       "      <td>2</td>\n",
       "      <td>326</td>\n",
       "      <td>1</td>\n",
       "      <td>1</td>\n",
       "    </tr>\n",
       "    <tr>\n",
       "      <th>12347.0</th>\n",
       "      <td>4310.00</td>\n",
       "      <td>182</td>\n",
       "      <td>40</td>\n",
       "      <td>0</td>\n",
       "      <td>0</td>\n",
       "    </tr>\n",
       "    <tr>\n",
       "      <th>12348.0</th>\n",
       "      <td>1797.24</td>\n",
       "      <td>31</td>\n",
       "      <td>76</td>\n",
       "      <td>0</td>\n",
       "      <td>0</td>\n",
       "    </tr>\n",
       "    <tr>\n",
       "      <th>12349.0</th>\n",
       "      <td>1757.55</td>\n",
       "      <td>73</td>\n",
       "      <td>19</td>\n",
       "      <td>0</td>\n",
       "      <td>0</td>\n",
       "    </tr>\n",
       "    <tr>\n",
       "      <th>12350.0</th>\n",
       "      <td>334.40</td>\n",
       "      <td>17</td>\n",
       "      <td>311</td>\n",
       "      <td>1</td>\n",
       "      <td>1</td>\n",
       "    </tr>\n",
       "    <tr>\n",
       "      <th>...</th>\n",
       "      <td>...</td>\n",
       "      <td>...</td>\n",
       "      <td>...</td>\n",
       "      <td>...</td>\n",
       "      <td>...</td>\n",
       "    </tr>\n",
       "    <tr>\n",
       "      <th>18280.0</th>\n",
       "      <td>180.60</td>\n",
       "      <td>10</td>\n",
       "      <td>160</td>\n",
       "      <td>1</td>\n",
       "      <td>1</td>\n",
       "    </tr>\n",
       "    <tr>\n",
       "      <th>18281.0</th>\n",
       "      <td>80.82</td>\n",
       "      <td>7</td>\n",
       "      <td>4</td>\n",
       "      <td>0</td>\n",
       "      <td>0</td>\n",
       "    </tr>\n",
       "    <tr>\n",
       "      <th>18282.0</th>\n",
       "      <td>176.60</td>\n",
       "      <td>13</td>\n",
       "      <td>93</td>\n",
       "      <td>0</td>\n",
       "      <td>0</td>\n",
       "    </tr>\n",
       "    <tr>\n",
       "      <th>18283.0</th>\n",
       "      <td>2094.88</td>\n",
       "      <td>756</td>\n",
       "      <td>10</td>\n",
       "      <td>4</td>\n",
       "      <td>0</td>\n",
       "    </tr>\n",
       "    <tr>\n",
       "      <th>18287.0</th>\n",
       "      <td>1837.28</td>\n",
       "      <td>70</td>\n",
       "      <td>0</td>\n",
       "      <td>0</td>\n",
       "      <td>0</td>\n",
       "    </tr>\n",
       "  </tbody>\n",
       "</table>\n",
       "<p>4372 rows × 5 columns</p>\n",
       "</div>"
      ],
      "text/plain": [
       "            monetary  freq  recency  seg_km1  seg_pred\n",
       "CustomerID                                            \n",
       "12346.0         0.00     2      326        1         1\n",
       "12347.0      4310.00   182       40        0         0\n",
       "12348.0      1797.24    31       76        0         0\n",
       "12349.0      1757.55    73       19        0         0\n",
       "12350.0       334.40    17      311        1         1\n",
       "...              ...   ...      ...      ...       ...\n",
       "18280.0       180.60    10      160        1         1\n",
       "18281.0        80.82     7        4        0         0\n",
       "18282.0       176.60    13       93        0         0\n",
       "18283.0      2094.88   756       10        4         0\n",
       "18287.0      1837.28    70        0        0         0\n",
       "\n",
       "[4372 rows x 5 columns]"
      ]
     },
     "execution_count": 48,
     "metadata": {},
     "output_type": "execute_result"
    }
   ],
   "source": [
    "rfm_customer['seg_pred']=seg_km2.predict(scaled_data)\n",
    "rfm_customer"
   ]
  },
  {
   "cell_type": "code",
   "execution_count": 49,
   "id": "2793fbc5",
   "metadata": {
    "execution": {
     "iopub.execute_input": "2022-04-23T07:35:46.482843Z",
     "iopub.status.busy": "2022-04-23T07:35:46.481928Z",
     "iopub.status.idle": "2022-04-23T07:35:46.488631Z",
     "shell.execute_reply": "2022-04-23T07:35:46.488012Z"
    },
    "papermill": {
     "duration": 0.074611,
     "end_time": "2022-04-23T07:35:46.490424",
     "exception": false,
     "start_time": "2022-04-23T07:35:46.415813",
     "status": "completed"
    },
    "tags": []
   },
   "outputs": [
    {
     "data": {
      "text/plain": [
       "0    3266\n",
       "1    1094\n",
       "2      12\n",
       "Name: seg_pred, dtype: int64"
      ]
     },
     "execution_count": 49,
     "metadata": {},
     "output_type": "execute_result"
    }
   ],
   "source": [
    "rfm_customer['seg_pred'].value_counts()"
   ]
  },
  {
   "cell_type": "code",
   "execution_count": 50,
   "id": "e7c03ca1",
   "metadata": {
    "execution": {
     "iopub.execute_input": "2022-04-23T07:35:46.624361Z",
     "iopub.status.busy": "2022-04-23T07:35:46.623666Z",
     "iopub.status.idle": "2022-04-23T07:35:46.826990Z",
     "shell.execute_reply": "2022-04-23T07:35:46.826013Z"
    },
    "papermill": {
     "duration": 0.27242,
     "end_time": "2022-04-23T07:35:46.829157",
     "exception": false,
     "start_time": "2022-04-23T07:35:46.556737",
     "status": "completed"
    },
    "tags": []
   },
   "outputs": [
    {
     "data": {
      "text/plain": [
       "<AxesSubplot:xlabel='seg_pred', ylabel='monetary'>"
      ]
     },
     "execution_count": 50,
     "metadata": {},
     "output_type": "execute_result"
    },
    {
     "data": {
      "image/png": "[encoded data removed]",
      "text/plain": [
       "<Figure size 432x288 with 1 Axes>"
      ]
     },
     "metadata": {
      "needs_background": "light"
     },
     "output_type": "display_data"
    }
   ],
   "source": [
    "# plot\n",
    "sns.boxplot(x=rfm_customer['seg_pred'], y=rfm_customer['monetary'], data=rfm_customer)"
   ]
  },
  {
   "cell_type": "code",
   "execution_count": 51,
   "id": "fd2e9dd0",
   "metadata": {
    "execution": {
     "iopub.execute_input": "2022-04-23T07:35:46.965932Z",
     "iopub.status.busy": "2022-04-23T07:35:46.965628Z",
     "iopub.status.idle": "2022-04-23T07:35:47.175819Z",
     "shell.execute_reply": "2022-04-23T07:35:47.175156Z"
    },
    "papermill": {
     "duration": 0.280746,
     "end_time": "2022-04-23T07:35:47.177778",
     "exception": false,
     "start_time": "2022-04-23T07:35:46.897032",
     "status": "completed"
    },
    "tags": []
   },
   "outputs": [
    {
     "data": {
      "text/plain": [
       "<AxesSubplot:xlabel='seg_pred', ylabel='recency'>"
      ]
     },
     "execution_count": 51,
     "metadata": {},
     "output_type": "execute_result"
    },
    {
     "data": {
      "image/png": "[encoded data removed]",
      "text/plain": [
       "<Figure size 432x288 with 1 Axes>"
      ]
     },
     "metadata": {
      "needs_background": "light"
     },
     "output_type": "display_data"
    }
   ],
   "source": [
    "# plot\n",
    "sns.boxplot(x=rfm_customer['seg_pred'], y=rfm_customer['recency'], data=rfm_customer)"
   ]
  },
  {
   "cell_type": "code",
   "execution_count": 52,
   "id": "02bf0144",
   "metadata": {
    "execution": {
     "iopub.execute_input": "2022-04-23T07:35:47.315939Z",
     "iopub.status.busy": "2022-04-23T07:35:47.315641Z",
     "iopub.status.idle": "2022-04-23T07:35:47.524747Z",
     "shell.execute_reply": "2022-04-23T07:35:47.523770Z"
    },
    "papermill": {
     "duration": 0.281081,
     "end_time": "2022-04-23T07:35:47.526887",
     "exception": false,
     "start_time": "2022-04-23T07:35:47.245806",
     "status": "completed"
    },
    "tags": []
   },
   "outputs": [
    {
     "data": {
      "text/plain": [
       "<AxesSubplot:xlabel='seg_pred', ylabel='freq'>"
      ]
     },
     "execution_count": 52,
     "metadata": {},
     "output_type": "execute_result"
    },
    {
     "data": {
      "image/png": "[encoded data removed]",
      "text/plain": [
       "<Figure size 432x288 with 1 Axes>"
      ]
     },
     "metadata": {
      "needs_background": "light"
     },
     "output_type": "display_data"
    }
   ],
   "source": [
    "# plot\n",
    "sns.boxplot(x=rfm_customer['seg_pred'], y=rfm_customer['freq'], data=rfm_customer)"
   ]
  },
  {
   "cell_type": "markdown",
   "id": "d89b0b8d",
   "metadata": {
    "papermill": {
     "duration": 0.068699,
     "end_time": "2022-04-23T07:35:47.664188",
     "exception": false,
     "start_time": "2022-04-23T07:35:47.595489",
     "status": "completed"
    },
    "tags": []
   },
   "source": [
    "### we analyze people in the category 0,1, 2"
   ]
  },
  {
   "cell_type": "code",
   "execution_count": 53,
   "id": "0a3d3dea",
   "metadata": {
    "execution": {
     "iopub.execute_input": "2022-04-23T07:35:47.802971Z",
     "iopub.status.busy": "2022-04-23T07:35:47.802697Z",
     "iopub.status.idle": "2022-04-23T07:35:47.832758Z",
     "shell.execute_reply": "2022-04-23T07:35:47.831901Z"
    },
    "papermill": {
     "duration": 0.103676,
     "end_time": "2022-04-23T07:35:47.837090",
     "exception": false,
     "start_time": "2022-04-23T07:35:47.733414",
     "status": "completed"
    },
    "tags": []
   },
   "outputs": [
    {
     "name": "stdout",
     "output_type": "stream",
     "text": [
      "            monetary  freq  recency  seg_km1  seg_pred\n",
      "CustomerID                                            \n",
      "12346.0         0.00     2      326        1         1\n",
      "12350.0       334.40    17      311        1         1\n",
      "12353.0        89.00     4      205        1         1\n",
      "12354.0      1079.40    58      233        1         1\n",
      "12357.0      6207.67   131      182        1         1\n",
      "...              ...   ...      ...      ...       ...\n",
      "18256.0       -50.10     4      355        1         1\n",
      "18269.0       138.90     8      359        1         1\n",
      "18270.0       238.95    13      241        1         1\n",
      "18273.0       204.00     3      151        1         1\n",
      "18280.0       180.60    10      160        1         1\n",
      "\n",
      "[1094 rows x 5 columns] \n",
      "\n",
      "\n",
      "\n",
      "\n",
      "          monetary         freq      recency      seg_km1  seg_pred\n",
      "count  1094.000000  1094.000000  1094.000000  1094.000000    1094.0\n",
      "mean    424.147294    29.170932   263.576782     1.370201       1.0\n",
      "std     544.443024    34.853123   109.363764     1.309780       0.0\n",
      "min   -4287.630000     1.000000   145.000000     1.000000       1.0\n",
      "25%     155.522500     9.000000   187.000000     1.000000       1.0\n",
      "50%     298.500000    19.000000   242.000000     1.000000       1.0\n",
      "75%     508.957500    34.000000   301.000000     1.000000       1.0\n",
      "max    6207.670000   378.000000   697.000000     6.000000       1.0 \n",
      "\n",
      "\n",
      "Percentage of these customers 25.02287282708143\n"
     ]
    }
   ],
   "source": [
    "print(rfm_customer[rfm_customer['seg_pred']==1],'\\n\\n\\n\\n')\n",
    "print(rfm_customer[rfm_customer['seg_pred']==1].describe(),\"\\n\\n\")\n",
    "\n",
    "print('Percentage of these customers',((rfm_customer[rfm_customer['seg_pred']==1].shape[0])/rfm_customer.shape[0])*100)"
   ]
  },
  {
   "cell_type": "code",
   "execution_count": 54,
   "id": "b1e80ea1",
   "metadata": {
    "execution": {
     "iopub.execute_input": "2022-04-23T07:35:47.976809Z",
     "iopub.status.busy": "2022-04-23T07:35:47.976446Z",
     "iopub.status.idle": "2022-04-23T07:35:48.004282Z",
     "shell.execute_reply": "2022-04-23T07:35:48.003213Z"
    },
    "papermill": {
     "duration": 0.100067,
     "end_time": "2022-04-23T07:35:48.006508",
     "exception": false,
     "start_time": "2022-04-23T07:35:47.906441",
     "status": "completed"
    },
    "tags": []
   },
   "outputs": [
    {
     "name": "stdout",
     "output_type": "stream",
     "text": [
      "            monetary  freq  recency  seg_km1  seg_pred\n",
      "CustomerID                                            \n",
      "12347.0      4310.00   182       40        0         0\n",
      "12348.0      1797.24    31       76        0         0\n",
      "12349.0      1757.55    73       19        0         0\n",
      "12352.0      1545.41    95       73        0         0\n",
      "12355.0       459.40    13       96        0         0\n",
      "...              ...   ...      ...      ...       ...\n",
      "18278.0       173.90     9       74        0         0\n",
      "18281.0        80.82     7        4        0         0\n",
      "18282.0       176.60    13       93        0         0\n",
      "18283.0      2094.88   756       10        4         0\n",
      "18287.0      1837.28    70        0        0         0\n",
      "\n",
      "[3266 rows x 5 columns] \n",
      "\n",
      "\n",
      "\n",
      "\n",
      "           monetary         freq     recency      seg_km1  seg_pred\n",
      "count   3266.000000  3266.000000  3266.00000  3266.000000    3266.0\n",
      "mean    1963.102386   104.338334    46.87477     0.442743       0.0\n",
      "std     4023.494530   148.247423    39.41358     1.225282       0.0\n",
      "min    -1592.490000     1.000000     0.00000     0.000000       0.0\n",
      "25%      396.590000    24.000000    16.00000     0.000000       0.0\n",
      "50%      907.565000    56.500000    35.00000     0.000000       0.0\n",
      "75%     2052.795000   126.000000    72.00000     0.000000       0.0\n",
      "max    65892.080000  2782.000000   167.00000     5.000000       0.0 \n",
      "\n",
      "\n",
      "Percentage of these customers 74.70265324794144\n"
     ]
    }
   ],
   "source": [
    "print(rfm_customer[rfm_customer['seg_pred']==0],'\\n\\n\\n\\n')\n",
    "print(rfm_customer[rfm_customer['seg_pred']==0].describe(),\"\\n\\n\")\n",
    "\n",
    "print('Percentage of these customers',((rfm_customer[rfm_customer['seg_pred']==0].shape[0])/rfm_customer.shape[0])*100)"
   ]
  },
  {
   "cell_type": "code",
   "execution_count": 55,
   "id": "a51e6417",
   "metadata": {
    "execution": {
     "iopub.execute_input": "2022-04-23T07:35:48.151680Z",
     "iopub.status.busy": "2022-04-23T07:35:48.151021Z",
     "iopub.status.idle": "2022-04-23T07:35:48.175852Z",
     "shell.execute_reply": "2022-04-23T07:35:48.175247Z"
    },
    "papermill": {
     "duration": 0.101577,
     "end_time": "2022-04-23T07:35:48.177833",
     "exception": false,
     "start_time": "2022-04-23T07:35:48.076256",
     "status": "completed"
    },
    "tags": []
   },
   "outputs": [
    {
     "name": "stdout",
     "output_type": "stream",
     "text": [
      "             monetary  freq  recency  seg_km1  seg_pred\n",
      "CustomerID                                             \n",
      "12415.0     123725.45   778       25        5         2\n",
      "12748.0      29072.10  4642        5        2         2\n",
      "13089.0      57385.88  1857        6        5         2\n",
      "14096.0      57120.91  5128       12        2         2\n",
      "14156.0     113384.14  1420        0        5         2\n",
      "14646.0     279489.02  2085        2        3         2\n",
      "14911.0     132572.62  5903        0        2         2\n",
      "15311.0      59419.34  2491        0        5         2\n",
      "17450.0     187482.17   351        3        3         2\n",
      "17511.0      88125.38  1076        6        5         2\n",
      "17841.0      40340.78  7983        0        2         2\n",
      "18102.0     256438.49   433       12        3         2 \n",
      "\n",
      "\n",
      "\n",
      "\n",
      "            monetary         freq    recency    seg_km1  seg_pred\n",
      "count      12.000000    12.000000  12.000000  12.000000      12.0\n",
      "mean   118713.023333  2845.583333   5.916667   3.500000       2.0\n",
      "std     83107.644352  2474.249508   7.403419   1.381699       0.0\n",
      "min     29072.100000   351.000000   0.000000   2.000000       2.0\n",
      "25%     57319.637500  1001.500000   0.000000   2.000000       2.0\n",
      "50%    100754.760000  1971.000000   4.000000   3.000000       2.0\n",
      "75%    146300.007500  4763.500000   7.500000   5.000000       2.0\n",
      "max    279489.020000  7983.000000  25.000000   5.000000       2.0 \n",
      "\n",
      "\n",
      "Percentage of these customers 0.2744739249771272\n"
     ]
    }
   ],
   "source": [
    "print(rfm_customer[rfm_customer['seg_pred']==2],'\\n\\n\\n\\n')\n",
    "print(rfm_customer[rfm_customer['seg_pred']==2].describe(),\"\\n\\n\")\n",
    "\n",
    "print('Percentage of these customers',((rfm_customer[rfm_customer['seg_pred']==2].shape[0])/rfm_customer.shape[0])*100)"
   ]
  }
 ],
 "metadata": {
  "kernelspec": {
   "display_name": "Python 3",
   "language": "python",
   "name": "python3"
  },
  "language_info": {
   "codemirror_mode": {
    "name": "ipython",
    "version": 3
   },
   "file_extension": ".py",
   "mimetype": "text/x-python",
   "name": "python",
   "nbconvert_exporter": "python",
   "pygments_lexer": "ipython3",
   "version": "3.7.12"
  },
  "papermill": {
   "default_parameters": {},
   "duration": 58.842617,
   "end_time": "2022-04-23T07:35:49.069896",
   "environment_variables": {},
   "exception": null,
   "input_path": "__notebook__.ipynb",
   "output_path": "__notebook__.ipynb",
   "parameters": {},
   "start_time": "2022-04-23T07:34:50.227279",
   "version": "2.3.4"
  }
 },
 "nbformat": 4,
 "nbformat_minor": 5
}
